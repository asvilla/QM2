{
  "cells": [
    {
      "cell_type": "markdown",
      "metadata": {
        "id": "view-in-github",
        "colab_type": "text"
      },
      "source": [
        "<a href=\"https://colab.research.google.com/github/asvilla/QM2/blob/main/notebooks/W09.%20Difference-in-Differences.ipynb\" target=\"_parent\"><img src=\"https://colab.research.google.com/assets/colab-badge.svg\" alt=\"Open In Colab\"/></a>"
      ]
    },
    {
      "cell_type": "markdown",
      "metadata": {
        "id": "Lads9rv6exJ-"
      },
      "source": [
        "# Difference in Differences\n",
        "\n",
        "## *Workshop 09*  [![Open In Colab](https://github.com/oballinger/QM2/blob/main/colab-badge.png?raw=1)](https://colab.research.google.com/github/oballinger/QM2/blob/main/notebooks/W09.%20Difference-in-Differences.ipynb)\n",
        "\n",
        "### Aims:\n",
        "\n",
        "This workshop builds on last week's material, replicating analysis in published academic research on the relationship between minimum wages and unemployment."
      ]
    },
    {
      "cell_type": "markdown",
      "metadata": {
        "id": "5KugRUBXRUqf"
      },
      "source": [
        "As always we'll start by importing the libraries I need"
      ]
    },
    {
      "cell_type": "code",
      "execution_count": 1,
      "metadata": {
        "id": "5ERdQ-QjexKB"
      },
      "outputs": [],
      "source": [
        "#!pip install linearmodels\n",
        "import pandas as pd\n",
        "import seaborn as sns\n",
        "import numpy as np\n",
        "import plotly\n",
        "import plotly.express as px\n",
        "import warnings\n",
        "from statsmodels.formula.api import ols\n",
        "from statsmodels.iolib.summary2 import summary_col\n",
        "import matplotlib.pyplot as plt\n",
        "\n",
        "warnings.filterwarnings('ignore')\n",
        "sns.set(font_scale=1.5)\n",
        "sns.set_style(\"white\")\n",
        "plt.rcParams['figure.figsize'] = (12, 8)"
      ]
    },
    {
      "cell_type": "markdown",
      "metadata": {
        "id": "tsRKrPHpG_xv"
      },
      "source": [
        "----------------------\n",
        "## Panel Regression\n",
        "\n",
        "[Surveys](https://www.pewresearch.org/politics/2012/04/17/with-voters-focused-on-economy-obama-lead-narrows/) indicate that \"jobs\" are consistently one of the most important issues among voters in U.S. presidential elections, and that Republicans are [typically perceived](https://thehill.com/homenews/campaign/3700047-republicans-hold-14-point-advantage-on-which-party-would-do-better-job-on-economy-poll/) as better in handling the economy than Democrats. An [article](https://www.nbcnews.com/news/us-news/where-did-trump-make-election-gains-unemployment-data-tells-surprising-n1247935) in NBC claims that \"analysis of unemployment and voting data found that the president’s share of the vote held steady or increased in each of the 20 counties with the highest rise in unemployment from September 2019 to September 2020. And his vote share improved by 1 percentage point or more in 70 of the 100 hardest-hit counties.\" Let's look into this.\n",
        "\n",
        "\n",
        "### Data Collection\n",
        "\n",
        "There are only 50 states in the U.S. but there are over 3000 counties-- this allows us to increase our sample size and perform a more fine-grained analysis. This is particularly important if we're interested in investigating the relationship between unemployment and voting behaviour, because of the urban-rural divide. For example, with in the state of New York there are probably vast differences in social and economic factors relevant to voting behaviour between Manhattan and very rural areas; this variation is lost when we look at aggregate state-level resutls, but visible when we look at the county-level. As such, in addition to the datasets we've just imported, we're going to be downloading county-level unemployment data straight from the BLS using the loop below."
      ]
    },
    {
      "cell_type": "code",
      "execution_count": 2,
      "metadata": {
        "id": "u1iTK8pUG_xx",
        "outputId": "4af1936a-f487-4df7-bb67-b2d082936440",
        "colab": {
          "base_uri": "https://localhost:8080/"
        }
      },
      "outputs": [
        {
          "output_type": "stream",
          "name": "stdout",
          "text": [
            "  % Total    % Received % Xferd  Average Speed   Time    Time     Time  Current\n",
            "                                 Dload  Upload   Total   Spent    Left  Speed\n",
            "100 2424k  100 2424k    0     0  7779k      0 --:--:-- --:--:-- --:--:-- 7770k\n",
            "  % Total    % Received % Xferd  Average Speed   Time    Time     Time  Current\n",
            "                                 Dload  Upload   Total   Spent    Left  Speed\n",
            "100  875k  100  875k    0     0  3480k      0 --:--:-- --:--:-- --:--:-- 3486k\n",
            "  % Total    % Received % Xferd  Average Speed   Time    Time     Time  Current\n",
            "                                 Dload  Upload   Total   Spent    Left  Speed\n",
            "100 3141k  100 3141k    0     0  15.4M      0 --:--:-- --:--:-- --:--:-- 15.4M\n"
          ]
        }
      ],
      "source": [
        "!mkdir data\n",
        "!mkdir data/wk10\n",
        "!curl https://storage.googleapis.com/qm2/wk10/state_data.csv -o data/wk10/state_data.csv\n",
        "!curl https://storage.googleapis.com/qm2/wk10/elections.csv -o data/wk10/elections.csv\n",
        "!curl https://storage.googleapis.com/qm2/wk10/geojson-counties-fips.json -o data/wk10/geojson-counties-fips.json"
      ]
    },
    {
      "cell_type": "code",
      "execution_count": 3,
      "metadata": {
        "id": "09gtU1zBG_xz",
        "outputId": "19e1a0b2-15c9-487c-a4ba-71f246ca24a9",
        "colab": {
          "base_uri": "https://localhost:8080/",
          "height": 206
        }
      },
      "outputs": [
        {
          "output_type": "execute_result",
          "data": {
            "text/plain": [
              "   state  county  year  unemployment  population county_fips\n",
              "0      1       1  2008           5.3      24.687       01001\n",
              "1      1       3  2008           4.8      83.205       01003\n",
              "2      1       5  2008           9.1      10.175       01005\n",
              "3      1       7  2008           6.0       8.751       01007\n",
              "4      1       9  2008           4.8      26.693       01009"
            ],
            "text/html": [
              "\n",
              "  <div id=\"df-8d04c889-5c8b-46d3-b510-92c4a5c2d15d\" class=\"colab-df-container\">\n",
              "    <div>\n",
              "<style scoped>\n",
              "    .dataframe tbody tr th:only-of-type {\n",
              "        vertical-align: middle;\n",
              "    }\n",
              "\n",
              "    .dataframe tbody tr th {\n",
              "        vertical-align: top;\n",
              "    }\n",
              "\n",
              "    .dataframe thead th {\n",
              "        text-align: right;\n",
              "    }\n",
              "</style>\n",
              "<table border=\"1\" class=\"dataframe\">\n",
              "  <thead>\n",
              "    <tr style=\"text-align: right;\">\n",
              "      <th></th>\n",
              "      <th>state</th>\n",
              "      <th>county</th>\n",
              "      <th>year</th>\n",
              "      <th>unemployment</th>\n",
              "      <th>population</th>\n",
              "      <th>county_fips</th>\n",
              "    </tr>\n",
              "  </thead>\n",
              "  <tbody>\n",
              "    <tr>\n",
              "      <th>0</th>\n",
              "      <td>1</td>\n",
              "      <td>1</td>\n",
              "      <td>2008</td>\n",
              "      <td>5.3</td>\n",
              "      <td>24.687</td>\n",
              "      <td>01001</td>\n",
              "    </tr>\n",
              "    <tr>\n",
              "      <th>1</th>\n",
              "      <td>1</td>\n",
              "      <td>3</td>\n",
              "      <td>2008</td>\n",
              "      <td>4.8</td>\n",
              "      <td>83.205</td>\n",
              "      <td>01003</td>\n",
              "    </tr>\n",
              "    <tr>\n",
              "      <th>2</th>\n",
              "      <td>1</td>\n",
              "      <td>5</td>\n",
              "      <td>2008</td>\n",
              "      <td>9.1</td>\n",
              "      <td>10.175</td>\n",
              "      <td>01005</td>\n",
              "    </tr>\n",
              "    <tr>\n",
              "      <th>3</th>\n",
              "      <td>1</td>\n",
              "      <td>7</td>\n",
              "      <td>2008</td>\n",
              "      <td>6.0</td>\n",
              "      <td>8.751</td>\n",
              "      <td>01007</td>\n",
              "    </tr>\n",
              "    <tr>\n",
              "      <th>4</th>\n",
              "      <td>1</td>\n",
              "      <td>9</td>\n",
              "      <td>2008</td>\n",
              "      <td>4.8</td>\n",
              "      <td>26.693</td>\n",
              "      <td>01009</td>\n",
              "    </tr>\n",
              "  </tbody>\n",
              "</table>\n",
              "</div>\n",
              "    <div class=\"colab-df-buttons\">\n",
              "\n",
              "  <div class=\"colab-df-container\">\n",
              "    <button class=\"colab-df-convert\" onclick=\"convertToInteractive('df-8d04c889-5c8b-46d3-b510-92c4a5c2d15d')\"\n",
              "            title=\"Convert this dataframe to an interactive table.\"\n",
              "            style=\"display:none;\">\n",
              "\n",
              "  <svg xmlns=\"http://www.w3.org/2000/svg\" height=\"24px\" viewBox=\"0 -960 960 960\">\n",
              "    <path d=\"M120-120v-720h720v720H120Zm60-500h600v-160H180v160Zm220 220h160v-160H400v160Zm0 220h160v-160H400v160ZM180-400h160v-160H180v160Zm440 0h160v-160H620v160ZM180-180h160v-160H180v160Zm440 0h160v-160H620v160Z\"/>\n",
              "  </svg>\n",
              "    </button>\n",
              "\n",
              "  <style>\n",
              "    .colab-df-container {\n",
              "      display:flex;\n",
              "      gap: 12px;\n",
              "    }\n",
              "\n",
              "    .colab-df-convert {\n",
              "      background-color: #E8F0FE;\n",
              "      border: none;\n",
              "      border-radius: 50%;\n",
              "      cursor: pointer;\n",
              "      display: none;\n",
              "      fill: #1967D2;\n",
              "      height: 32px;\n",
              "      padding: 0 0 0 0;\n",
              "      width: 32px;\n",
              "    }\n",
              "\n",
              "    .colab-df-convert:hover {\n",
              "      background-color: #E2EBFA;\n",
              "      box-shadow: 0px 1px 2px rgba(60, 64, 67, 0.3), 0px 1px 3px 1px rgba(60, 64, 67, 0.15);\n",
              "      fill: #174EA6;\n",
              "    }\n",
              "\n",
              "    .colab-df-buttons div {\n",
              "      margin-bottom: 4px;\n",
              "    }\n",
              "\n",
              "    [theme=dark] .colab-df-convert {\n",
              "      background-color: #3B4455;\n",
              "      fill: #D2E3FC;\n",
              "    }\n",
              "\n",
              "    [theme=dark] .colab-df-convert:hover {\n",
              "      background-color: #434B5C;\n",
              "      box-shadow: 0px 1px 3px 1px rgba(0, 0, 0, 0.15);\n",
              "      filter: drop-shadow(0px 1px 2px rgba(0, 0, 0, 0.3));\n",
              "      fill: #FFFFFF;\n",
              "    }\n",
              "  </style>\n",
              "\n",
              "    <script>\n",
              "      const buttonEl =\n",
              "        document.querySelector('#df-8d04c889-5c8b-46d3-b510-92c4a5c2d15d button.colab-df-convert');\n",
              "      buttonEl.style.display =\n",
              "        google.colab.kernel.accessAllowed ? 'block' : 'none';\n",
              "\n",
              "      async function convertToInteractive(key) {\n",
              "        const element = document.querySelector('#df-8d04c889-5c8b-46d3-b510-92c4a5c2d15d');\n",
              "        const dataTable =\n",
              "          await google.colab.kernel.invokeFunction('convertToInteractive',\n",
              "                                                    [key], {});\n",
              "        if (!dataTable) return;\n",
              "\n",
              "        const docLinkHtml = 'Like what you see? Visit the ' +\n",
              "          '<a target=\"_blank\" href=https://colab.research.google.com/notebooks/data_table.ipynb>data table notebook</a>'\n",
              "          + ' to learn more about interactive tables.';\n",
              "        element.innerHTML = '';\n",
              "        dataTable['output_type'] = 'display_data';\n",
              "        await google.colab.output.renderOutput(dataTable, element);\n",
              "        const docLink = document.createElement('div');\n",
              "        docLink.innerHTML = docLinkHtml;\n",
              "        element.appendChild(docLink);\n",
              "      }\n",
              "    </script>\n",
              "  </div>\n",
              "\n",
              "\n",
              "<div id=\"df-8fb1de1a-846e-420c-a7bb-61d72c5237f4\">\n",
              "  <button class=\"colab-df-quickchart\" onclick=\"quickchart('df-8fb1de1a-846e-420c-a7bb-61d72c5237f4')\"\n",
              "            title=\"Suggest charts\"\n",
              "            style=\"display:none;\">\n",
              "\n",
              "<svg xmlns=\"http://www.w3.org/2000/svg\" height=\"24px\"viewBox=\"0 0 24 24\"\n",
              "     width=\"24px\">\n",
              "    <g>\n",
              "        <path d=\"M19 3H5c-1.1 0-2 .9-2 2v14c0 1.1.9 2 2 2h14c1.1 0 2-.9 2-2V5c0-1.1-.9-2-2-2zM9 17H7v-7h2v7zm4 0h-2V7h2v10zm4 0h-2v-4h2v4z\"/>\n",
              "    </g>\n",
              "</svg>\n",
              "  </button>\n",
              "\n",
              "<style>\n",
              "  .colab-df-quickchart {\n",
              "      --bg-color: #E8F0FE;\n",
              "      --fill-color: #1967D2;\n",
              "      --hover-bg-color: #E2EBFA;\n",
              "      --hover-fill-color: #174EA6;\n",
              "      --disabled-fill-color: #AAA;\n",
              "      --disabled-bg-color: #DDD;\n",
              "  }\n",
              "\n",
              "  [theme=dark] .colab-df-quickchart {\n",
              "      --bg-color: #3B4455;\n",
              "      --fill-color: #D2E3FC;\n",
              "      --hover-bg-color: #434B5C;\n",
              "      --hover-fill-color: #FFFFFF;\n",
              "      --disabled-bg-color: #3B4455;\n",
              "      --disabled-fill-color: #666;\n",
              "  }\n",
              "\n",
              "  .colab-df-quickchart {\n",
              "    background-color: var(--bg-color);\n",
              "    border: none;\n",
              "    border-radius: 50%;\n",
              "    cursor: pointer;\n",
              "    display: none;\n",
              "    fill: var(--fill-color);\n",
              "    height: 32px;\n",
              "    padding: 0;\n",
              "    width: 32px;\n",
              "  }\n",
              "\n",
              "  .colab-df-quickchart:hover {\n",
              "    background-color: var(--hover-bg-color);\n",
              "    box-shadow: 0 1px 2px rgba(60, 64, 67, 0.3), 0 1px 3px 1px rgba(60, 64, 67, 0.15);\n",
              "    fill: var(--button-hover-fill-color);\n",
              "  }\n",
              "\n",
              "  .colab-df-quickchart-complete:disabled,\n",
              "  .colab-df-quickchart-complete:disabled:hover {\n",
              "    background-color: var(--disabled-bg-color);\n",
              "    fill: var(--disabled-fill-color);\n",
              "    box-shadow: none;\n",
              "  }\n",
              "\n",
              "  .colab-df-spinner {\n",
              "    border: 2px solid var(--fill-color);\n",
              "    border-color: transparent;\n",
              "    border-bottom-color: var(--fill-color);\n",
              "    animation:\n",
              "      spin 1s steps(1) infinite;\n",
              "  }\n",
              "\n",
              "  @keyframes spin {\n",
              "    0% {\n",
              "      border-color: transparent;\n",
              "      border-bottom-color: var(--fill-color);\n",
              "      border-left-color: var(--fill-color);\n",
              "    }\n",
              "    20% {\n",
              "      border-color: transparent;\n",
              "      border-left-color: var(--fill-color);\n",
              "      border-top-color: var(--fill-color);\n",
              "    }\n",
              "    30% {\n",
              "      border-color: transparent;\n",
              "      border-left-color: var(--fill-color);\n",
              "      border-top-color: var(--fill-color);\n",
              "      border-right-color: var(--fill-color);\n",
              "    }\n",
              "    40% {\n",
              "      border-color: transparent;\n",
              "      border-right-color: var(--fill-color);\n",
              "      border-top-color: var(--fill-color);\n",
              "    }\n",
              "    60% {\n",
              "      border-color: transparent;\n",
              "      border-right-color: var(--fill-color);\n",
              "    }\n",
              "    80% {\n",
              "      border-color: transparent;\n",
              "      border-right-color: var(--fill-color);\n",
              "      border-bottom-color: var(--fill-color);\n",
              "    }\n",
              "    90% {\n",
              "      border-color: transparent;\n",
              "      border-bottom-color: var(--fill-color);\n",
              "    }\n",
              "  }\n",
              "</style>\n",
              "\n",
              "  <script>\n",
              "    async function quickchart(key) {\n",
              "      const quickchartButtonEl =\n",
              "        document.querySelector('#' + key + ' button');\n",
              "      quickchartButtonEl.disabled = true;  // To prevent multiple clicks.\n",
              "      quickchartButtonEl.classList.add('colab-df-spinner');\n",
              "      try {\n",
              "        const charts = await google.colab.kernel.invokeFunction(\n",
              "            'suggestCharts', [key], {});\n",
              "      } catch (error) {\n",
              "        console.error('Error during call to suggestCharts:', error);\n",
              "      }\n",
              "      quickchartButtonEl.classList.remove('colab-df-spinner');\n",
              "      quickchartButtonEl.classList.add('colab-df-quickchart-complete');\n",
              "    }\n",
              "    (() => {\n",
              "      let quickchartButtonEl =\n",
              "        document.querySelector('#df-8fb1de1a-846e-420c-a7bb-61d72c5237f4 button');\n",
              "      quickchartButtonEl.style.display =\n",
              "        google.colab.kernel.accessAllowed ? 'block' : 'none';\n",
              "    })();\n",
              "  </script>\n",
              "</div>\n",
              "    </div>\n",
              "  </div>\n"
            ]
          },
          "metadata": {},
          "execution_count": 3
        }
      ],
      "source": [
        "import requests\n",
        "from io import StringIO\n",
        "counties=pd.DataFrame() # create empty dataframe to store the county data for each year\n",
        "\n",
        "for year in range (2008,2022): # loop through years from 1990 to 2021\n",
        "    url='https://www.bls.gov/lau/laucnty'+str(year)[-2:]+'.txt' # create the url for the data\n",
        "    txt=requests.get(url, headers={'User-Agent': 'Mozilla/5.0'}).text # get the text from the url\n",
        "    txt=StringIO(txt) # create a string object\n",
        "    annual=pd.read_csv(txt, sep=\"\\s{2,}\", header=3, on_bad_lines='skip', engine='python', skipfooter=2) # read the text as a dataframe\n",
        "    annual=annual[['Code','Code.1','Year','Rate','Force']].rename(columns={'Code':'state','Code.1':'county','Year':'year','Rate':'unemployment','Force':'population'}) # rename the columns\n",
        "    counties=pd.concat([counties,annual]) # append the data for each year to the dataframe\n",
        "\n",
        "counties.dropna(inplace=True) # drop missing values\n",
        "counties['county_fips']=counties['state'].astype(str).str.zfill(2)+counties['county'].astype(int).astype(str).str.zfill(3) # create a fips code for each county\n",
        "counties['unemployment']=pd.to_numeric(counties['unemployment'], errors='coerce') # convert the unemployment rate to a numeric variable\n",
        "counties['population']=pd.to_numeric(counties['population'].str.replace(',',''), errors='coerce')/1000 # convert the population to a numeric variable and divide by 1000 to get the population in thousands\n",
        "counties.head()"
      ]
    },
    {
      "cell_type": "markdown",
      "metadata": {
        "id": "CCzdSywiG_x0"
      },
      "source": [
        "Part of the cleaning process in the cell above involves the creation of a column called \"county_fips\"-- this stands for [Federal Information Processing System](https://transition.fcc.gov/oet/info/maps/census/fips/fips.txt#:~:text=FIPS%20codes%20are%20numbers%20which,to%20which%20the%20county%20belongs.). This is a code that uniquely identifies states and counties in the U.S. A two digit FIPS code identifies states (e.g. 01: Alabama, 02: Alaska, etc.) and a five digit fips code identifies counties (e.g. 010001: Atauga County, Alabama; 02068: Denali Borough, Alaska). Notice, the first two digits of the five-digit county FIPS code indicates the state. Boring, yes, but these codes are imperative in allowing us to join county- and state- level datasets from different sources quicky and easily. Imagine what a nightmare it would be to try to join them using the names of the counties, having to deal with capitalizations, punctuation, etc. Yikes."
      ]
    },
    {
      "cell_type": "markdown",
      "metadata": {
        "id": "Au8E87yKG_x2"
      },
      "source": [
        "### Maps\n",
        "\n",
        "Great-- we've now got clean, county-level unemployment and population data spanning from 1990-2022 on an annual basis. Lets make a map to explore the spatial distribution of unemployment across time in the U.S. In order to do that, we're going to need a spatial file that tells us the shapes of the counties; I've imported it as a variable called `county_polygons`. We're then going to create an  map using the [Plotly](https://plotly.com/python/) library, which is great for making pretty, interactive maps and plots. It will have a slider on the bottom that lets us view unemployment in different years. It's doing quite a bit under the hood so it will take some time to plot. Be patient."
      ]
    },
    {
      "cell_type": "code",
      "execution_count": 4,
      "metadata": {
        "id": "d1O7cxEwG_x3"
      },
      "outputs": [],
      "source": [
        "import json\n",
        "county_polygons = json.load(open('data/wk10/geojson-counties-fips.json'))"
      ]
    },
    {
      "cell_type": "code",
      "execution_count": 5,
      "metadata": {
        "id": "5qoEQNfVG_x4"
      },
      "outputs": [],
      "source": [
        "plot_sample=counties[counties['year']>2007] # subset the data to only include years after 2007 -- it would take too long to plot all of the data\n",
        "\n",
        "px.choropleth( # plot a choropleth map using the plotly express (px) library\n",
        "                plot_sample, # load the dataframe\n",
        "                locations='county_fips', # set the location column to the state code\n",
        "                geojson=county_polygons, # set the location mode to USA states (you could add your own custom geojson/spatial file here)\n",
        "                scope='usa', # set the scope to the USA, so that it only plots the states\n",
        "                color=\"unemployment\", # set the color of the states to correspond to the unemployment rate\n",
        "                animation_frame=plot_sample[\"year\"].astype(str), # set the animation frame to the date, creating a slider at the bottom of the map\n",
        "                color_continuous_scale=px.colors.sequential.Viridis, # set the color scale to Viridis, a commonly used color scale\n",
        "                range_color=[0, 10], # set the range of the color scale to 0-10\n",
        "                height=1000) # set the height of the map to 1000 pixels"
      ]
    },
    {
      "cell_type": "markdown",
      "metadata": {
        "id": "3vmOV1xUG_x5"
      },
      "source": [
        "This map is interactive-- meaning you can zoom in, pan around, and hover over it to get further information on the unemployment level in each county. You can also use the slider at the bottom to toggle between different years; if you move the slider from 2008 to 2009, you'll see lots of yellow suddenly appearing. A similar thing happens between 2019 and 2020. What's going on? Play around with this map for a second, and make note of spatial and temporal trends in unemployment.\n",
        "\n",
        "Now we're going to do the same thing for the elections data, which I've taken the liberty of cleaning. Let's load it up as a dataframe called `elections`, and make another map in which we plot vote shares in various elections such that red shows republican support, and blue shows democratic support."
      ]
    },
    {
      "cell_type": "code",
      "execution_count": null,
      "metadata": {
        "id": "yzOBjoHGG_x6"
      },
      "outputs": [],
      "source": [
        "elections=pd.read_csv('data/wk10/elections.csv',converters={'county_fips': str})\n",
        "px.choropleth(\n",
        "                elections,\n",
        "                locations='county_fips',\n",
        "                geojson=county_polygons,\n",
        "                scope='usa',\n",
        "                color=\"r_votes\",\n",
        "                animation_frame=elections[\"year\"].astype(str),\n",
        "                color_continuous_scale=px.colors.diverging.balance,\n",
        "                range_color=[20, 80],\n",
        "                height=1000)"
      ]
    },
    {
      "cell_type": "markdown",
      "metadata": {
        "id": "FE3hRYjbG_x6"
      },
      "source": [
        "Explore the map above. What do you notice about republican vote share, particularly as it relates to the previous map of unemployment?\n",
        "\n",
        "Now we've got two datasets-- one on unemployment and another on election results. We want to merge them but CAREFUL: each row corresponds to the value of a variable $x$ in county $i$ and time $t$ (so, $x_{it}$); for example, the value in the first row of our dataset under the unemployment column would be $unemployment_{01001, 2000}$; i.e., the unemployment rate in Atauga County, Alabama (FIPS code 01001), in the year 2000. When our data has this structure ($x_{it}$), we call it **panel data**. It must be handled differently from **cross sectional data** ($x_i$), from merging to estimation.\n",
        "\n",
        "We can't just merge on $i$ or $t$, we need to merge on both. We can do so as follows:"
      ]
    },
    {
      "cell_type": "code",
      "execution_count": null,
      "metadata": {
        "id": "KCO5WWCAG_x7"
      },
      "outputs": [],
      "source": [
        "df_c=pd.merge(elections,counties, on=['county_fips','year'])\n",
        "df_c.head()"
      ]
    },
    {
      "cell_type": "markdown",
      "metadata": {
        "id": "YZErZdU8G_x8"
      },
      "source": [
        "### Exercise\n",
        "\n",
        "OK. Our data is clean and ready for analysis. Because we're going to be investigating the relationship between unempoyment rates and republican voteshare via a regression model, we're going to need to follow the four steps of regression modeling from [last week](https://oballinger.github.io/QM2/notebooks/W09.%20Linear%20Regression.html).\n",
        "\n",
        "First, formulate a research question (complete with null and alternative hypothesis), and then follow these steps for our dataset, `df_c` (bonus points if you account for the influence of population).\n",
        "\n",
        "1. Summary Statistics\n",
        "    * Table of Summary Statistics\n",
        "2. Visualisation\n",
        "    * Exploratory Plots\n",
        "3. Assumptions\n",
        "    * A. Independence\n",
        "    * B. Heteroscedasticity: Regression plots + Q-Q plot\n",
        "    * C. Multicollinearity: VIF + Correlation Matrix\n",
        "4. Regression\n",
        "    * Regression Table\n",
        "\n",
        "For the moment, when you run the regression, ignore the fact that we have panel data and just run a regular regression of the form\n",
        "$$\\huge Y= \\beta_0 + \\beta_1X+\\epsilon $$\n",
        "\n",
        "### Accounting for Space and Time\n",
        "\n",
        "If you've done things correctly, you'll notice two things. First, the appears to be a generally negative relationship between unemployment and republican voteshare; in other words, places with higher unemployment tend to vote *against* republicans. Second, we've egregiously violated the independence assumption. We have repeat observations of the same individuals (counties) over time. As such, this result may be biased unless we account for space and time.\n",
        "\n",
        "As we saw in the lecture, panel data actually contains *two* sources of variation: differences *between* individuals (in this case, counties), and *within* individuials. So, a simple research question such as \"Does unemployment increase republican voteshare\" is actually two different questions:\n",
        "\n",
        "1. Does a higher level of unemployment lead to higher republican vote shares **between counties**?\n",
        "2. Does an *increase* in the unemployment rate over time lead to an *increase* in republican vote shares **within counties**?\n",
        "\n",
        "Neither is more important than the other, but we must be careful not to conflate them as they are very different questions. A straighforward way of answering the first question would be to get rid of the time dimension in our data by running a separate regression for each year:"
      ]
    },
    {
      "cell_type": "code",
      "execution_count": 8,
      "metadata": {
        "id": "HvaJZsn2G_x8",
        "outputId": "ca165682-50a5-4f83-e451-0be8ce936eaf",
        "colab": {
          "base_uri": "https://localhost:8080/"
        }
      },
      "outputs": [
        {
          "output_type": "stream",
          "name": "stdout",
          "text": [
            "\n",
            "======================================================\n",
            "                  2008      2012      2016      2020  \n",
            "------------------------------------------------------\n",
            "Intercept      68.971*** 73.383*** 70.706*** 81.771***\n",
            "               (0.680)   (0.727)   (0.788)   (0.803)  \n",
            "unemployment   -1.891*** -1.618*** -1.101*** -2.323***\n",
            "               (0.109)   (0.088)   (0.142)   (0.115)  \n",
            "population     -0.023*** -0.024*** -0.034*** -0.029***\n",
            "               (0.001)   (0.002)   (0.002)   (0.002)  \n",
            "R-squared      0.148     0.165     0.142     0.229    \n",
            "R-squared Adj. 0.148     0.165     0.141     0.229    \n",
            "N              3114      3114      3115      3114     \n",
            "======================================================\n",
            "Standard errors in parentheses.\n",
            "* p<.1, ** p<.05, ***p<.01\n"
          ]
        }
      ],
      "source": [
        "models=[] # create empty list to store the models\n",
        "names=[] # create empty list to store the names of the models\n",
        "years=df_c['year'].unique()\n",
        "\n",
        "for year in years: # loop through years from 2000 to 2020 in increments of 4\n",
        "    election=df_c[df_c['year']==year] # subset the data to only include the year of interest\n",
        "    model= ols('r_votes ~ unemployment + population', data=election).fit() # run a regression of the republican vote share on the unemployment rate\n",
        "    models.append(model) # append the model to the list of models\n",
        "    names.append(str(year)) # append the name of the model to the list of names\n",
        "\n",
        "table=summary_col( # create a regression table\n",
        "    models, # pass the models to the summary_col function\n",
        "    stars=True, # add stars denoting the p-values of the coefficient to the table; * p<0.05, ** p<0.01, *** p<0.001\n",
        "    float_format='%0.3f', # set the decimal places to 3\n",
        "    model_names=names, # set the names of the model\n",
        "    info_dict = {\"N\":lambda x: \"{0:d}\".format(int(x.nobs))}) # add the number of observations to the table\n",
        "\n",
        "print(table) # print the table"
      ]
    },
    {
      "cell_type": "markdown",
      "metadata": {
        "id": "k3_7IPwtG_x9"
      },
      "source": [
        "This table is pretty informative. Using what we learned from last week, we can say that for the 2020 election,\n",
        "\n",
        "* A 1% increase in the unemployment rate was associated with a 2.3% *decrease* in republican voteshare.\n",
        "* A 1000-person increase in population was associated with 0.029% decrease in republican voteshare.\n",
        "* both of these results are statistically signifiant at the 0.01 level.\n",
        "* 23% of the variation in republican voteshare can be explained by unemployment and population.\n",
        "\n",
        "Crucially, \"increase\" in this context pertains to *differences in between counties*!\n",
        "\n",
        "We can also compare these results across different elections. The coefficient for the unemployment variable in 2020 is over twice the size of the same coefficient in 2016! So it looks like actually unemployment and republican voteshare are *negatively* related, contrary to popular belief.\n",
        "\n",
        "But is this the whole story?\n",
        "\n",
        "Below, i've isolated West Virginia, one of the states with the highest unemployment rates in America. Instead of drawing a new regression line every year, i've drawn a new regression line for each county over the six elections.         "
      ]
    },
    {
      "cell_type": "code",
      "execution_count": 9,
      "metadata": {
        "id": "950QXh79G_x9",
        "outputId": "e56de30e-9046-4f72-abf5-f4c34da86a64",
        "colab": {
          "base_uri": "https://localhost:8080/",
          "height": 1000
        }
      },
      "outputs": [
        {
          "output_type": "execute_result",
          "data": {
            "text/plain": [
              "<seaborn.axisgrid.FacetGrid at 0x796d2c041cc0>"
            ]
          },
          "metadata": {},
          "execution_count": 9
        },
        {
          "output_type": "display_data",
          "data": {
            "text/plain": [
              "<Figure size 1000x1000 with 1 Axes>"
            ],
            "image/png": "[encoded data removed]"
          },
          "metadata": {}
        }
      ],
      "source": [
        "west_virginia=df_c[(df_c['state']==54)]\n",
        "sns.lmplot(data=west_virginia, x='unemployment', y='r_votes', ci=None, hue='county', height=10, legend=False, palette='husl', scatter_kws={'alpha':.3})"
      ]
    },
    {
      "cell_type": "markdown",
      "metadata": {
        "id": "msHYZZ5vG_x-"
      },
      "source": [
        "Within a given county, an increase in the unemployment rate is associated with an **increase** in republican voteshare! This is where the second question comes in (variation within counties).\n",
        "\n",
        "We got away with doing a series of cross-sectional analyses (a new regression for each election) because we have over 3000 counties, so $n>3000$ for each of those regressions (though even so, we're still splitting our data up and it would be better to leverage the full dataset of >18000 observations in one regression). It also provides relatively useful information about the importance of unemployment across the country for each election. We can't really apply the same thinking to this situation, since we only have six time periods. If we ran a separate regression for each county, we would only have six observations per regression-- nowhere near enough to satisfy the central limit theorem (at least n>30). The insights would also be of limited utility; we would get over 3000 unique estimates for the realtionship between county-level employment and election results. Imagine trying to fit *that* into one table.\n",
        "\n",
        "Luckily, there's a way of modeling this relationship that allows us to account for differences in between counties, while also capturing the variation within counties. This is called a **Fixed Effect regression**\n",
        "\n",
        "> **Fixed Effects Models**: In experimental research, unmeasured differences between subjects are often controlled for via random assignment to treatment and control groups. Hence, even if a variable like Socio-Economic Status is not explicitly measured, because of random assignment, we can be reasonably confident that the effects of SES are approximately equal for all groups. Of course, random assignment is usually not possible with most survey research. If we want to control for the effect of a variable, we must explicitly measure it. If we don’t measure it, we can’t control for it. In practice, there will almost certainly be some variables we have failed to measure (or have measured poorly), so our models will likely suffer from some degree of omitted variable bias.\n",
        ">When we have panel data (the same people/states/counties. etc. measured at two or more points in time) another alternative presents itself: we can use the subjects as their own controls. With panel data we can control for stable characteristics (i.e. characteristics that do not change across time) whether they are measured or not. These include such things as sex, race, and ethnicity for individuals, or urban/rural, topography, economic structure for geographic areas. The idea is that, whatever effect these variables have at one point in time, they will have the same effect at a different point in time because the values of such variables do not change.\n",
        "\n",
        "A fixed effect regression takes the following form:\n",
        "\n",
        "$$\\huge Y_{it}=\\alpha_i+\\beta X_{it}+\\epsilon_{it}$$\n",
        "\n",
        "Where:\n",
        "* $X_{it}$ are the independent variables (e.g. population and unemployment) whose values vary over time.\n",
        "* $\\beta$ is the slope coefficient for variable $x$ (e.g. unemployment). The model assumes that these effects are time-invariant, e.g. the effect of $x$ is the same at same 1 as it is at time 4 (although the value of $x$ can be different at different time periods).\n",
        "* $\\alpha_i$ and $\\epsilon_{it}$ are both error terms. $\\epsilon_{it}$ is different for each individual at each point in time. $\\alpha_i$ only varies across individuals but not across time. We can think of $\\alpha_i$ as representing the effects of all the time invariant/stable variables that have NOT been included in the model. So, given that we have 6 time periods for each county then the six records for county 1 would all have the same value for $\\alpha_1$, the six records for county 2 would all have the same value for $\\alpha_2$, etc. But, $\\epsilon_{it}$ is free to be different for every case at every time period.\n",
        "\n",
        "A fixed effect regression allows us to account for $\\alpha_i$ through a technique called **demeaning**\n",
        "\n",
        ">**Demeaning**: After demeaning, all variables for all cases have a mean of 0. That means that all the between-subject variability has been eliminated. All that is left is the within-subject variability. So, with a fixed effects model, we are analyzing what causes individual’s values to change across time. Variables whose values do not change (like race or gender) cannot cause changes across time (unless their effects change across time as well). However, whatever effect they have at one time is the same effect that they have at other times, so the effects of such stable characteristics are controlled.\n",
        "\n",
        "In essence, you can picture this as allowing you to draw a separate regression line through each set of observations from the same group in your data (in this case, one county over time); however, while the *intercept* of these lines can vary (their absolute position), they will all have the same *slope* and will therefore be parallel. This is important, as we want to find one slope-- one common effect of x-- that fits *all* groups."
      ]
    },
    {
      "cell_type": "markdown",
      "metadata": {
        "id": "tsYEohP2G_x_"
      },
      "source": [
        "Run the command below to install the library."
      ]
    },
    {
      "cell_type": "code",
      "execution_count": null,
      "metadata": {
        "id": "p6nE7nSGG_x_"
      },
      "outputs": [],
      "source": [
        "!pip install linearmodels"
      ]
    },
    {
      "cell_type": "code",
      "execution_count": null,
      "metadata": {
        "id": "WHLTxodgG_x_",
        "outputId": "eb8ccdda-0809-4d5d-b542-3f0539a3e836"
      },
      "outputs": [
        {
          "name": "stdout",
          "output_type": "stream",
          "text": [
            "           Model Comparison           \n",
            "======================================\n",
            "                         Fixed Effects\n",
            "--------------------------------------\n",
            "Dep. Variable                  r_votes\n",
            "Estimator                     PanelOLS\n",
            "No. Observations                 12457\n",
            "Cov. Est.                   Unadjusted\n",
            "R-squared                       0.0206\n",
            "R-Squared (Within)              0.0206\n",
            "R-Squared (Between)            -0.1061\n",
            "R-Squared (Overall)            -0.0939\n",
            "F-statistic                     98.465\n",
            "P-value (F-stat)                0.0000\n",
            "=====================     ============\n",
            "Intercept                    66.818***\n",
            "                              (159.05)\n",
            "population                  -0.0727***\n",
            "                             (-10.241)\n",
            "unemployment                -0.3268***\n",
            "                             (-9.3595)\n",
            "======================= ==============\n",
            "Effects                         Entity\n",
            "--------------------------------------\n",
            "\n",
            "T-stats reported in parentheses\n"
          ]
        }
      ],
      "source": [
        "from linearmodels import PanelOLS\n",
        "from linearmodels import RandomEffects\n",
        "import statsmodels.formula.api as smf\n",
        "from linearmodels.panel import compare\n",
        "\n",
        "df_c=df_c.set_index(['county_fips','year']) # set the index to the county fips code and the year\n",
        "panel = PanelOLS.from_formula('r_votes ~ 1  + population + unemployment  + EntityEffects',df_c).fit() # run a fixed effects model\n",
        "print(compare({'Fixed Effects': panel,}, stars=True)) # print the model formatted as a regression table"
      ]
    },
    {
      "cell_type": "markdown",
      "metadata": {
        "id": "Ks9HbzrGG_yA"
      },
      "source": [
        "When accounting for time-invariant differences between counties, the effect of population remains negative. This suggests that counties in which the population is *decreasing* tend to experience an increase in republican voteshare. More specifically, for every 1000 people that leave a county, republican voteshare increases by 0.06%.\n",
        "\n",
        "The really interesting part of this regression table, however, is the coefficient on the unemployment variable, which is now positive. This suggests that-- once we account for the differences between counties-- an increase in the unemployment rate *within* a county is *positively* associated with republican voteshare. Indeed, a 1% increase in the unemployment rate leads to a 0.28% increase in republican voteshare.\n",
        "\n",
        "This regression output even gives us three separate $R^2$ values-- one for between-variation, another for within, and one overall."
      ]
    },
    {
      "cell_type": "markdown",
      "metadata": {
        "id": "ZRtZiGZPG_yA"
      },
      "source": [
        "---------------------------\n",
        "## 2. Difference in Differences\n",
        "\n",
        "One of the reasons that we observe a signficant relationship between unemployment and voting behaviour in last week's workshop is that the Republican and Democratic parties have opposing views on what to do about unemployment. Democratic lawmakers have historically been in favour of increasing the minimum wage to benefit low-income workers, while Republicans have generally opposed this on the basis that it would hurt these very workers by increase unemployment. Indeed, classical economic theory holds that an increase in wages would lead to a reduction in employment; A business that makes $100k in revenue per year and spends all of it on employing 20 people can't suddenly start paying their workers double their salaries-- unless it fires half of its workers. This is obviously a simplified model though-- minimum wage laws typically don't double wages, and businesses don't operate at-cost, they turn a profit which they could use to pay their workers more. In the rest of this workshop, we're going to be investigating this question empirically:\n",
        "\n",
        "### Do minimum wage laws increase unemployment?\n",
        "\n",
        "Note that this is a *causal* question; i'm not asking if they're correlated-- i'm asking if one causes the other. The burden of proof here is much higher than observing correlations, and we have to think seriously about **endogeneity**. In partiuclar, we need to account for the influence of omitted variables (e.g. a recession, or the economic composition of a state), the potential for reverse causality (states implementing minimum wage laws in response to unemployment crises), and selection bias.\n",
        "\n",
        "In a lab, you can conduct causal inference by running an experiment. You can randomly select individuals, split them into a control group and a treatment group, measure their values in an outcome variable prior to a treatment, administer a treatment, and measure their respective values after the treatment. If you observe a change in the outcome variable in the treatment group after having administered the treatment, you can interpert that as the causal effect of treatment. This is because we're able to make a plausible argument that the **control group can act as a counterfactual (a stand-in) for the treatment group in the absence of treatment**. Both groups had the same values before the treatment, then the only thing that changed between them was the treatment, so if we observe a change in the outcome variable, it must be due to treatment.\n",
        "\n",
        "In the real world, we rarely get to run expermients of this kind. Instead, we have to hunt for **natural experiments**: situations in which there is a **treatment** which we're interested in measuring the effect of, and two groups that can plausibly act as a treatment and control group.\n",
        "\n",
        "> **[Difference in Difference](https://www.publichealth.columbia.edu/research/population-health-methods/difference-difference-estimation#:~:text=DID%20relies%20on%20a%20less,individual%20level%20is%20not%20possible.)** is a quasi-experimental design that makes use of longitudinal data from treatment and control groups to obtain an appropriate counterfactual to estimate a causal effect. DID is typically used to estimate the effect of a specific intervention or treatment (such as a passage of law, enactment of policy, or large-scale program implementation) by comparing the changes in outcomes over time between a population that is enrolled in a program (the intervention group) and a population that is not (the control group).\n",
        "\n",
        "The Difference in Difference model can be estimated as a simple regression model of the following form:\n",
        "\n",
        "$$\\huge Y_{it} = \\beta_0 + \\beta_1 Treatment_i + \\beta_2 Post_t + \\beta_3 (Treatment_i \\times Post_t) + \\varepsilon_{it}$$\n",
        "\n",
        "- $Treatment_i$ is 0 for the control group and 1 for the treatment group\n",
        "- $Post_t$ is 0 for before and 1 for after\n",
        "\n",
        "we can insert the values of $Treatment$ and $Post$ using the table below and see that coefficient ($\\beta_3$) of the interaction of $Treatment$ and $Post$ is the Difference in Differences (DID) estimator:\n",
        "\n",
        "[Card and Krueger (1994)](https://davidcard.berkeley.edu/papers/njmin-aer.pdf) found one such natural experiment, allowing them to estimate the causal effect of an increase in the state minimum wage on unemployment using a DiD model; In 1992, New Jersey raised the state minimum wage from \\$4.25 to \\$5.05 while the minimum wage in neighbouring Pennsylvania stayed the same at \\$4.25.\n",
        "   \n",
        "* Treatmeng Group: New Jersey\n",
        "* Control Group: Pennsylvania\n",
        "* Pre-Treatment Period: before 1992\n",
        "* Post-Treatment Period: after 1992\n",
        "\n",
        "They conducted a survey of 384 fast-food restaurants across both states, right before and right after the law came into effect in New Jersey, asking them how many people they employed. They ran a Difference-in-Differences model, and found that the coefficient $\\beta_3$ was positive but not statistically significant. In other words, the average total employees per restaurant *increased* after the minimum wage increased, but this could have been due to random chance.\n",
        "\n",
        "That was a long time ago. Things have changed since then, including the fact that we have access to a lot more data and computational power. Let's see if we can replicate Card and Krueger's results with more recent data. I've downloaded data on unemployment, minimum wage levels, and Gross Domestic Product at the state level going back to 1976. Let's have a look at minimum wages in New Jersey and Pennsylvania over time:"
      ]
    },
    {
      "cell_type": "code",
      "execution_count": null,
      "metadata": {
        "id": "I_6FfyiEG_yA",
        "outputId": "b834ba33-8d19-42d2-8b0b-5b40789ae0b4"
      },
      "outputs": [
        {
          "data": {
            "application/vnd.plotly.v1+json": {
              "config": {
                "plotlyServerURL": "https://plotly.com"
              },
              "data": [
                {
                  "hovertemplate": "state=new jersey<br>date=%{x}<br>minwage=%{y}<extra></extra>",
                  "legendgroup": "new jersey",
                  "line": {
                    "color": "#636efa",
                    "dash": "solid"
                  },
                  "marker": {
                    "symbol": "circle"
                  },
                  "mode": "lines",
                  "name": "new jersey",
                  "showlegend": true,
                  "type": "scattergl",
                  "x": [
                    "1976-01-01T00:00:00",
                    "1976-02-01T00:00:00",
                    "1976-03-01T00:00:00",
                    "1976-04-01T00:00:00",
                    "1976-05-01T00:00:00",
                    "1976-06-01T00:00:00",
                    "1976-07-01T00:00:00",
                    "1976-08-01T00:00:00",
                    "1976-09-01T00:00:00",
                    "1976-10-01T00:00:00",
                    "1976-11-01T00:00:00",
                    "1976-12-01T00:00:00",
                    "1977-01-01T00:00:00",
                    "1977-02-01T00:00:00",
                    "1977-03-01T00:00:00",
                    "1977-04-01T00:00:00",
                    "1977-05-01T00:00:00",
                    "1977-06-01T00:00:00",
                    "1977-07-01T00:00:00",
                    "1977-08-01T00:00:00",
                    "1977-09-01T00:00:00",
                    "1977-10-01T00:00:00",
                    "1977-11-01T00:00:00",
                    "1977-12-01T00:00:00",
                    "1978-01-01T00:00:00",
                    "1978-02-01T00:00:00",
                    "1978-03-01T00:00:00",
                    "1978-04-01T00:00:00",
                    "1978-05-01T00:00:00",
                    "1978-06-01T00:00:00",
                    "1978-07-01T00:00:00",
                    "1978-08-01T00:00:00",
                    "1978-09-01T00:00:00",
                    "1978-10-01T00:00:00",
                    "1978-11-01T00:00:00",
                    "1978-12-01T00:00:00",
                    "1979-01-01T00:00:00",
                    "1979-02-01T00:00:00",
                    "1979-03-01T00:00:00",
                    "1979-04-01T00:00:00",
                    "1979-05-01T00:00:00",
                    "1979-06-01T00:00:00",
                    "1979-07-01T00:00:00",
                    "1979-08-01T00:00:00",
                    "1979-09-01T00:00:00",
                    "1979-10-01T00:00:00",
                    "1979-11-01T00:00:00",
                    "1979-12-01T00:00:00",
                    "1980-01-01T00:00:00",
                    "1980-02-01T00:00:00",
                    "1980-03-01T00:00:00",
                    "1980-04-01T00:00:00",
                    "1980-05-01T00:00:00",
                    "1980-06-01T00:00:00",
                    "1980-07-01T00:00:00",
                    "1980-08-01T00:00:00",
                    "1980-09-01T00:00:00",
                    "1980-10-01T00:00:00",
                    "1980-11-01T00:00:00",
                    "1980-12-01T00:00:00",
                    "1981-01-01T00:00:00",
                    "1981-02-01T00:00:00",
                    "1981-03-01T00:00:00",
                    "1981-04-01T00:00:00",
                    "1981-05-01T00:00:00",
                    "1981-06-01T00:00:00",
                    "1981-07-01T00:00:00",
                    "1981-08-01T00:00:00",
                    "1981-09-01T00:00:00",
                    "1981-10-01T00:00:00",
                    "1981-11-01T00:00:00",
                    "1981-12-01T00:00:00",
                    "1982-01-01T00:00:00",
                    "1982-02-01T00:00:00",
                    "1982-03-01T00:00:00",
                    "1982-04-01T00:00:00",
                    "1982-05-01T00:00:00",
                    "1982-06-01T00:00:00",
                    "1982-07-01T00:00:00",
                    "1982-08-01T00:00:00",
                    "1982-09-01T00:00:00",
                    "1982-10-01T00:00:00",
                    "1982-11-01T00:00:00",
                    "1982-12-01T00:00:00",
                    "1983-01-01T00:00:00",
                    "1983-02-01T00:00:00",
                    "1983-03-01T00:00:00",
                    "1983-04-01T00:00:00",
                    "1983-05-01T00:00:00",
                    "1983-06-01T00:00:00",
                    "1983-07-01T00:00:00",
                    "1983-08-01T00:00:00",
                    "1983-09-01T00:00:00",
                    "1983-10-01T00:00:00",
                    "1983-11-01T00:00:00",
                    "1983-12-01T00:00:00",
                    "1984-01-01T00:00:00",
                    "1984-02-01T00:00:00",
                    "1984-03-01T00:00:00",
                    "1984-04-01T00:00:00",
                    "1984-05-01T00:00:00",
                    "1984-06-01T00:00:00",
                    "1984-07-01T00:00:00",
                    "1984-08-01T00:00:00",
                    "1984-09-01T00:00:00",
                    "1984-10-01T00:00:00",
                    "1984-11-01T00:00:00",
                    "1984-12-01T00:00:00",
                    "1985-01-01T00:00:00",
                    "1985-02-01T00:00:00",
                    "1985-03-01T00:00:00",
                    "1985-04-01T00:00:00",
                    "1985-05-01T00:00:00",
                    "1985-06-01T00:00:00",
                    "1985-07-01T00:00:00",
                    "1985-08-01T00:00:00",
                    "1985-09-01T00:00:00",
                    "1985-10-01T00:00:00",
                    "1985-11-01T00:00:00",
                    "1985-12-01T00:00:00",
                    "1986-01-01T00:00:00",
                    "1986-02-01T00:00:00",
                    "1986-03-01T00:00:00",
                    "1986-04-01T00:00:00",
                    "1986-05-01T00:00:00",
                    "1986-06-01T00:00:00",
                    "1986-07-01T00:00:00",
                    "1986-08-01T00:00:00",
                    "1986-09-01T00:00:00",
                    "1986-10-01T00:00:00",
                    "1986-11-01T00:00:00",
                    "1986-12-01T00:00:00",
                    "1987-01-01T00:00:00",
                    "1987-02-01T00:00:00",
                    "1987-03-01T00:00:00",
                    "1987-04-01T00:00:00",
                    "1987-05-01T00:00:00",
                    "1987-06-01T00:00:00",
                    "1987-07-01T00:00:00",
                    "1987-08-01T00:00:00",
                    "1987-09-01T00:00:00",
                    "1987-10-01T00:00:00",
                    "1987-11-01T00:00:00",
                    "1987-12-01T00:00:00",
                    "1988-01-01T00:00:00",
                    "1988-02-01T00:00:00",
                    "1988-03-01T00:00:00",
                    "1988-04-01T00:00:00",
                    "1988-05-01T00:00:00",
                    "1988-06-01T00:00:00",
                    "1988-07-01T00:00:00",
                    "1988-08-01T00:00:00",
                    "1988-09-01T00:00:00",
                    "1988-10-01T00:00:00",
                    "1988-11-01T00:00:00",
                    "1988-12-01T00:00:00",
                    "1989-01-01T00:00:00",
                    "1989-02-01T00:00:00",
                    "1989-03-01T00:00:00",
                    "1989-04-01T00:00:00",
                    "1989-05-01T00:00:00",
                    "1989-06-01T00:00:00",
                    "1989-07-01T00:00:00",
                    "1989-08-01T00:00:00",
                    "1989-09-01T00:00:00",
                    "1989-10-01T00:00:00",
                    "1989-11-01T00:00:00",
                    "1989-12-01T00:00:00",
                    "1990-01-01T00:00:00",
                    "1990-02-01T00:00:00",
                    "1990-03-01T00:00:00",
                    "1990-04-01T00:00:00",
                    "1990-05-01T00:00:00",
                    "1990-06-01T00:00:00",
                    "1990-07-01T00:00:00",
                    "1990-08-01T00:00:00",
                    "1990-09-01T00:00:00",
                    "1990-10-01T00:00:00",
                    "1990-11-01T00:00:00",
                    "1990-12-01T00:00:00",
                    "1991-01-01T00:00:00",
                    "1991-02-01T00:00:00",
                    "1991-03-01T00:00:00",
                    "1991-04-01T00:00:00",
                    "1991-05-01T00:00:00",
                    "1991-06-01T00:00:00",
                    "1991-07-01T00:00:00",
                    "1991-08-01T00:00:00",
                    "1991-09-01T00:00:00",
                    "1991-10-01T00:00:00",
                    "1991-11-01T00:00:00",
                    "1991-12-01T00:00:00",
                    "1992-01-01T00:00:00",
                    "1992-02-01T00:00:00",
                    "1992-03-01T00:00:00",
                    "1992-04-01T00:00:00",
                    "1992-05-01T00:00:00",
                    "1992-06-01T00:00:00",
                    "1992-07-01T00:00:00",
                    "1992-08-01T00:00:00",
                    "1992-09-01T00:00:00",
                    "1992-10-01T00:00:00",
                    "1992-11-01T00:00:00",
                    "1992-12-01T00:00:00",
                    "1993-01-01T00:00:00",
                    "1993-02-01T00:00:00",
                    "1993-03-01T00:00:00",
                    "1993-04-01T00:00:00",
                    "1993-05-01T00:00:00",
                    "1993-06-01T00:00:00",
                    "1993-07-01T00:00:00",
                    "1993-08-01T00:00:00",
                    "1993-09-01T00:00:00",
                    "1993-10-01T00:00:00",
                    "1993-11-01T00:00:00",
                    "1993-12-01T00:00:00",
                    "1994-01-01T00:00:00",
                    "1994-02-01T00:00:00",
                    "1994-03-01T00:00:00",
                    "1994-04-01T00:00:00",
                    "1994-05-01T00:00:00",
                    "1994-06-01T00:00:00",
                    "1994-07-01T00:00:00",
                    "1994-08-01T00:00:00",
                    "1994-09-01T00:00:00",
                    "1994-10-01T00:00:00",
                    "1994-11-01T00:00:00",
                    "1994-12-01T00:00:00",
                    "1995-01-01T00:00:00",
                    "1995-02-01T00:00:00",
                    "1995-03-01T00:00:00",
                    "1995-04-01T00:00:00",
                    "1995-05-01T00:00:00",
                    "1995-06-01T00:00:00",
                    "1995-07-01T00:00:00",
                    "1995-08-01T00:00:00",
                    "1995-09-01T00:00:00",
                    "1995-10-01T00:00:00",
                    "1995-11-01T00:00:00",
                    "1995-12-01T00:00:00",
                    "1996-01-01T00:00:00",
                    "1996-02-01T00:00:00",
                    "1996-03-01T00:00:00",
                    "1996-04-01T00:00:00",
                    "1996-05-01T00:00:00",
                    "1996-06-01T00:00:00",
                    "1996-07-01T00:00:00",
                    "1996-08-01T00:00:00",
                    "1996-09-01T00:00:00",
                    "1996-10-01T00:00:00",
                    "1996-11-01T00:00:00",
                    "1996-12-01T00:00:00",
                    "1997-01-01T00:00:00",
                    "1997-02-01T00:00:00",
                    "1997-03-01T00:00:00",
                    "1997-04-01T00:00:00",
                    "1997-05-01T00:00:00",
                    "1997-06-01T00:00:00",
                    "1997-07-01T00:00:00",
                    "1997-08-01T00:00:00",
                    "1997-09-01T00:00:00",
                    "1997-10-01T00:00:00",
                    "1997-11-01T00:00:00",
                    "1997-12-01T00:00:00",
                    "1998-01-01T00:00:00",
                    "1998-02-01T00:00:00",
                    "1998-03-01T00:00:00",
                    "1998-04-01T00:00:00",
                    "1998-05-01T00:00:00",
                    "1998-06-01T00:00:00",
                    "1998-07-01T00:00:00",
                    "1998-08-01T00:00:00",
                    "1998-09-01T00:00:00",
                    "1998-10-01T00:00:00",
                    "1998-11-01T00:00:00",
                    "1998-12-01T00:00:00",
                    "1999-01-01T00:00:00",
                    "1999-02-01T00:00:00",
                    "1999-03-01T00:00:00",
                    "1999-04-01T00:00:00",
                    "1999-05-01T00:00:00",
                    "1999-06-01T00:00:00",
                    "1999-07-01T00:00:00",
                    "1999-08-01T00:00:00",
                    "1999-09-01T00:00:00",
                    "1999-10-01T00:00:00",
                    "1999-11-01T00:00:00",
                    "1999-12-01T00:00:00",
                    "2000-01-01T00:00:00",
                    "2000-02-01T00:00:00",
                    "2000-03-01T00:00:00",
                    "2000-04-01T00:00:00",
                    "2000-05-01T00:00:00",
                    "2000-06-01T00:00:00",
                    "2000-07-01T00:00:00",
                    "2000-08-01T00:00:00",
                    "2000-09-01T00:00:00",
                    "2000-10-01T00:00:00",
                    "2000-11-01T00:00:00",
                    "2000-12-01T00:00:00",
                    "2001-01-01T00:00:00",
                    "2001-02-01T00:00:00",
                    "2001-03-01T00:00:00",
                    "2001-04-01T00:00:00",
                    "2001-05-01T00:00:00",
                    "2001-06-01T00:00:00",
                    "2001-07-01T00:00:00",
                    "2001-08-01T00:00:00",
                    "2001-09-01T00:00:00",
                    "2001-10-01T00:00:00",
                    "2001-11-01T00:00:00",
                    "2001-12-01T00:00:00",
                    "2002-01-01T00:00:00",
                    "2002-02-01T00:00:00",
                    "2002-03-01T00:00:00",
                    "2002-04-01T00:00:00",
                    "2002-05-01T00:00:00",
                    "2002-06-01T00:00:00",
                    "2002-07-01T00:00:00",
                    "2002-08-01T00:00:00",
                    "2002-09-01T00:00:00",
                    "2002-10-01T00:00:00",
                    "2002-11-01T00:00:00",
                    "2002-12-01T00:00:00",
                    "2003-01-01T00:00:00",
                    "2003-02-01T00:00:00",
                    "2003-03-01T00:00:00",
                    "2003-04-01T00:00:00",
                    "2003-05-01T00:00:00",
                    "2003-06-01T00:00:00",
                    "2003-07-01T00:00:00",
                    "2003-08-01T00:00:00",
                    "2003-09-01T00:00:00",
                    "2003-10-01T00:00:00",
                    "2003-11-01T00:00:00",
                    "2003-12-01T00:00:00",
                    "2004-01-01T00:00:00",
                    "2004-02-01T00:00:00",
                    "2004-03-01T00:00:00",
                    "2004-04-01T00:00:00",
                    "2004-05-01T00:00:00",
                    "2004-06-01T00:00:00",
                    "2004-07-01T00:00:00",
                    "2004-08-01T00:00:00",
                    "2004-09-01T00:00:00",
                    "2004-10-01T00:00:00",
                    "2004-11-01T00:00:00",
                    "2004-12-01T00:00:00",
                    "2005-01-01T00:00:00",
                    "2005-02-01T00:00:00",
                    "2005-03-01T00:00:00",
                    "2005-04-01T00:00:00",
                    "2005-05-01T00:00:00",
                    "2005-06-01T00:00:00",
                    "2005-07-01T00:00:00",
                    "2005-08-01T00:00:00",
                    "2005-09-01T00:00:00",
                    "2005-10-01T00:00:00",
                    "2005-11-01T00:00:00",
                    "2005-12-01T00:00:00",
                    "2006-01-01T00:00:00",
                    "2006-02-01T00:00:00",
                    "2006-03-01T00:00:00",
                    "2006-04-01T00:00:00",
                    "2006-05-01T00:00:00",
                    "2006-06-01T00:00:00",
                    "2006-07-01T00:00:00",
                    "2006-08-01T00:00:00",
                    "2006-09-01T00:00:00",
                    "2006-10-01T00:00:00",
                    "2006-11-01T00:00:00",
                    "2006-12-01T00:00:00",
                    "2007-01-01T00:00:00",
                    "2007-02-01T00:00:00",
                    "2007-03-01T00:00:00",
                    "2007-04-01T00:00:00",
                    "2007-05-01T00:00:00",
                    "2007-06-01T00:00:00",
                    "2007-07-01T00:00:00",
                    "2007-08-01T00:00:00",
                    "2007-09-01T00:00:00",
                    "2007-10-01T00:00:00",
                    "2007-11-01T00:00:00",
                    "2007-12-01T00:00:00",
                    "2008-01-01T00:00:00",
                    "2008-02-01T00:00:00",
                    "2008-03-01T00:00:00",
                    "2008-04-01T00:00:00",
                    "2008-05-01T00:00:00",
                    "2008-06-01T00:00:00",
                    "2008-07-01T00:00:00",
                    "2008-08-01T00:00:00",
                    "2008-09-01T00:00:00",
                    "2008-10-01T00:00:00",
                    "2008-11-01T00:00:00",
                    "2008-12-01T00:00:00",
                    "2009-01-01T00:00:00",
                    "2009-02-01T00:00:00",
                    "2009-03-01T00:00:00",
                    "2009-04-01T00:00:00",
                    "2009-05-01T00:00:00",
                    "2009-06-01T00:00:00",
                    "2009-07-01T00:00:00",
                    "2009-08-01T00:00:00",
                    "2009-09-01T00:00:00",
                    "2009-10-01T00:00:00",
                    "2009-11-01T00:00:00",
                    "2009-12-01T00:00:00",
                    "2010-01-01T00:00:00",
                    "2010-02-01T00:00:00",
                    "2010-03-01T00:00:00",
                    "2010-04-01T00:00:00",
                    "2010-05-01T00:00:00",
                    "2010-06-01T00:00:00",
                    "2010-07-01T00:00:00",
                    "2010-08-01T00:00:00",
                    "2010-09-01T00:00:00",
                    "2010-10-01T00:00:00",
                    "2010-11-01T00:00:00",
                    "2010-12-01T00:00:00",
                    "2011-01-01T00:00:00",
                    "2011-02-01T00:00:00",
                    "2011-03-01T00:00:00",
                    "2011-04-01T00:00:00",
                    "2011-05-01T00:00:00",
                    "2011-06-01T00:00:00",
                    "2011-07-01T00:00:00",
                    "2011-08-01T00:00:00",
                    "2011-09-01T00:00:00",
                    "2011-10-01T00:00:00",
                    "2011-11-01T00:00:00",
                    "2011-12-01T00:00:00",
                    "2012-01-01T00:00:00",
                    "2012-02-01T00:00:00",
                    "2012-03-01T00:00:00",
                    "2012-04-01T00:00:00",
                    "2012-05-01T00:00:00",
                    "2012-06-01T00:00:00",
                    "2012-07-01T00:00:00",
                    "2012-08-01T00:00:00",
                    "2012-09-01T00:00:00",
                    "2012-10-01T00:00:00",
                    "2012-11-01T00:00:00",
                    "2012-12-01T00:00:00",
                    "2013-01-01T00:00:00",
                    "2013-02-01T00:00:00",
                    "2013-03-01T00:00:00",
                    "2013-04-01T00:00:00",
                    "2013-05-01T00:00:00",
                    "2013-06-01T00:00:00",
                    "2013-07-01T00:00:00",
                    "2013-08-01T00:00:00",
                    "2013-09-01T00:00:00",
                    "2013-10-01T00:00:00",
                    "2013-11-01T00:00:00",
                    "2013-12-01T00:00:00",
                    "2014-01-01T00:00:00",
                    "2014-02-01T00:00:00",
                    "2014-03-01T00:00:00",
                    "2014-04-01T00:00:00",
                    "2014-05-01T00:00:00",
                    "2014-06-01T00:00:00",
                    "2014-07-01T00:00:00",
                    "2014-08-01T00:00:00",
                    "2014-09-01T00:00:00",
                    "2014-10-01T00:00:00",
                    "2014-11-01T00:00:00",
                    "2014-12-01T00:00:00",
                    "2015-01-01T00:00:00",
                    "2015-02-01T00:00:00",
                    "2015-03-01T00:00:00",
                    "2015-04-01T00:00:00",
                    "2015-05-01T00:00:00",
                    "2015-06-01T00:00:00",
                    "2015-07-01T00:00:00",
                    "2015-08-01T00:00:00",
                    "2015-09-01T00:00:00",
                    "2015-10-01T00:00:00",
                    "2015-11-01T00:00:00",
                    "2015-12-01T00:00:00",
                    "2016-01-01T00:00:00",
                    "2016-02-01T00:00:00",
                    "2016-03-01T00:00:00",
                    "2016-04-01T00:00:00",
                    "2016-05-01T00:00:00",
                    "2016-06-01T00:00:00",
                    "2016-07-01T00:00:00",
                    "2016-08-01T00:00:00",
                    "2016-09-01T00:00:00",
                    "2016-10-01T00:00:00",
                    "2016-11-01T00:00:00",
                    "2016-12-01T00:00:00",
                    "2017-01-01T00:00:00",
                    "2017-02-01T00:00:00",
                    "2017-03-01T00:00:00",
                    "2017-04-01T00:00:00",
                    "2017-05-01T00:00:00",
                    "2017-06-01T00:00:00",
                    "2017-07-01T00:00:00",
                    "2017-08-01T00:00:00",
                    "2017-09-01T00:00:00",
                    "2017-10-01T00:00:00",
                    "2017-11-01T00:00:00",
                    "2017-12-01T00:00:00",
                    "2018-01-01T00:00:00",
                    "2018-02-01T00:00:00",
                    "2018-03-01T00:00:00",
                    "2018-04-01T00:00:00",
                    "2018-05-01T00:00:00",
                    "2018-06-01T00:00:00",
                    "2018-07-01T00:00:00",
                    "2018-08-01T00:00:00",
                    "2018-09-01T00:00:00",
                    "2018-10-01T00:00:00",
                    "2018-11-01T00:00:00",
                    "2018-12-01T00:00:00",
                    "2019-01-01T00:00:00",
                    "2019-02-01T00:00:00",
                    "2019-03-01T00:00:00",
                    "2019-04-01T00:00:00",
                    "2019-05-01T00:00:00",
                    "2019-06-01T00:00:00",
                    "2019-07-01T00:00:00",
                    "2019-08-01T00:00:00",
                    "2019-09-01T00:00:00",
                    "2019-10-01T00:00:00",
                    "2019-11-01T00:00:00",
                    "2019-12-01T00:00:00",
                    "2020-01-01T00:00:00",
                    "2020-02-01T00:00:00",
                    "2020-03-01T00:00:00",
                    "2020-04-01T00:00:00",
                    "2020-05-01T00:00:00",
                    "2020-06-01T00:00:00",
                    "2020-07-01T00:00:00",
                    "2020-08-01T00:00:00",
                    "2020-09-01T00:00:00",
                    "2020-10-01T00:00:00",
                    "2020-11-01T00:00:00",
                    "2020-12-01T00:00:00",
                    "2021-01-01T00:00:00",
                    "2021-02-01T00:00:00",
                    "2021-03-01T00:00:00",
                    "2021-04-01T00:00:00",
                    "2021-05-01T00:00:00",
                    "2021-06-01T00:00:00",
                    "2021-07-01T00:00:00",
                    "2021-08-01T00:00:00",
                    "2021-09-01T00:00:00",
                    "2021-10-01T00:00:00",
                    "2021-11-01T00:00:00",
                    "2021-12-01T00:00:00",
                    "2022-01-01T00:00:00",
                    "2022-02-01T00:00:00",
                    "2022-03-01T00:00:00",
                    "2022-04-01T00:00:00",
                    "2022-05-01T00:00:00",
                    "2022-06-01T00:00:00",
                    "2022-07-01T00:00:00",
                    "2022-08-01T00:00:00",
                    "2022-09-01T00:00:00",
                    "2022-10-01T00:00:00"
                  ],
                  "xaxis": "x",
                  "y": [
                    10,
                    10,
                    10,
                    10,
                    10,
                    10,
                    10,
                    10,
                    10,
                    10,
                    10,
                    10,
                    9.39,
                    9.39,
                    9.39,
                    9.39,
                    9.39,
                    9.39,
                    9.39,
                    9.39,
                    9.39,
                    9.39,
                    9.39,
                    9.39,
                    8.73,
                    8.73,
                    8.73,
                    8.73,
                    8.73,
                    8.73,
                    8.73,
                    8.73,
                    8.73,
                    8.73,
                    8.73,
                    8.73,
                    8.91,
                    8.91,
                    8.91,
                    8.91,
                    8.91,
                    8.91,
                    8.91,
                    8.91,
                    8.91,
                    8.91,
                    8.91,
                    8.91,
                    9.73,
                    9.73,
                    9.73,
                    9.73,
                    9.73,
                    9.73,
                    9.73,
                    9.73,
                    9.73,
                    9.73,
                    9.73,
                    9.73,
                    9.53,
                    9.53,
                    9.53,
                    9.53,
                    9.53,
                    9.53,
                    9.53,
                    9.53,
                    9.53,
                    9.53,
                    9.53,
                    9.53,
                    8.98,
                    8.98,
                    8.98,
                    8.98,
                    8.98,
                    8.98,
                    8.98,
                    8.98,
                    8.98,
                    8.98,
                    8.98,
                    8.98,
                    8.7,
                    8.7,
                    8.7,
                    8.7,
                    8.7,
                    8.7,
                    8.7,
                    8.7,
                    8.7,
                    8.7,
                    8.7,
                    8.7,
                    8.34,
                    8.34,
                    8.34,
                    8.34,
                    8.34,
                    8.34,
                    8.34,
                    8.34,
                    8.34,
                    8.34,
                    8.34,
                    8.34,
                    8.05,
                    8.05,
                    8.05,
                    8.05,
                    8.05,
                    8.05,
                    8.05,
                    8.05,
                    8.05,
                    8.05,
                    8.05,
                    8.05,
                    7.91,
                    7.91,
                    7.91,
                    7.91,
                    7.91,
                    7.91,
                    7.91,
                    7.91,
                    7.91,
                    7.91,
                    7.91,
                    7.91,
                    7.63,
                    7.63,
                    7.63,
                    7.63,
                    7.63,
                    7.63,
                    7.63,
                    7.63,
                    7.63,
                    7.63,
                    7.63,
                    7.63,
                    7.32,
                    7.32,
                    7.32,
                    7.32,
                    7.32,
                    7.32,
                    7.32,
                    7.32,
                    7.32,
                    7.32,
                    7.32,
                    7.32,
                    6.99,
                    6.99,
                    6.99,
                    6.99,
                    6.99,
                    6.99,
                    6.99,
                    6.99,
                    6.99,
                    6.99,
                    6.99,
                    6.99,
                    6.63,
                    6.63,
                    6.63,
                    6.63,
                    6.63,
                    6.63,
                    6.63,
                    6.63,
                    6.63,
                    6.63,
                    6.63,
                    6.63,
                    7.22,
                    7.22,
                    7.22,
                    7.22,
                    7.22,
                    7.22,
                    7.22,
                    7.22,
                    7.22,
                    7.22,
                    7.22,
                    7.22,
                    7.84,
                    7.84,
                    7.84,
                    7.84,
                    7.84,
                    7.84,
                    7.84,
                    7.84,
                    7.84,
                    7.84,
                    7.84,
                    7.84,
                    7.61,
                    7.61,
                    7.61,
                    7.61,
                    7.61,
                    7.61,
                    7.61,
                    7.61,
                    7.61,
                    7.61,
                    7.61,
                    7.61,
                    8.81,
                    8.81,
                    8.81,
                    8.81,
                    8.81,
                    8.81,
                    8.81,
                    8.81,
                    8.81,
                    8.81,
                    8.81,
                    8.81,
                    8.57,
                    8.57,
                    8.57,
                    8.57,
                    8.57,
                    8.57,
                    8.57,
                    8.57,
                    8.57,
                    8.57,
                    8.57,
                    8.57,
                    8.33,
                    8.33,
                    8.33,
                    8.33,
                    8.33,
                    8.33,
                    8.33,
                    8.33,
                    8.33,
                    8.33,
                    8.33,
                    8.33,
                    8.14,
                    8.14,
                    8.14,
                    8.14,
                    8.14,
                    8.14,
                    8.14,
                    8.14,
                    8.14,
                    8.14,
                    8.14,
                    8.14,
                    8.01,
                    8.01,
                    8.01,
                    8.01,
                    8.01,
                    8.01,
                    8.01,
                    8.01,
                    8.01,
                    8.01,
                    8.01,
                    8.01,
                    7.84,
                    7.84,
                    7.84,
                    7.84,
                    7.84,
                    7.84,
                    7.84,
                    7.84,
                    7.84,
                    7.84,
                    7.84,
                    7.84,
                    7.74,
                    7.74,
                    7.74,
                    7.74,
                    7.74,
                    7.74,
                    7.74,
                    7.74,
                    7.74,
                    7.74,
                    7.74,
                    7.74,
                    7.52,
                    7.52,
                    7.52,
                    7.52,
                    7.52,
                    7.52,
                    7.52,
                    7.52,
                    7.52,
                    7.52,
                    7.52,
                    7.52,
                    7.4,
                    7.4,
                    7.4,
                    7.4,
                    7.4,
                    7.4,
                    7.4,
                    7.4,
                    7.4,
                    7.4,
                    7.4,
                    7.4,
                    7.24,
                    7.24,
                    7.24,
                    7.24,
                    7.24,
                    7.24,
                    7.24,
                    7.24,
                    7.24,
                    7.24,
                    7.24,
                    7.24,
                    7.05,
                    7.05,
                    7.05,
                    7.05,
                    7.05,
                    7.05,
                    7.05,
                    7.05,
                    7.05,
                    7.05,
                    7.05,
                    7.05,
                    6.82,
                    6.82,
                    6.82,
                    6.82,
                    6.82,
                    6.82,
                    6.82,
                    6.82,
                    6.82,
                    6.82,
                    6.82,
                    6.82,
                    7.89,
                    7.89,
                    7.89,
                    7.89,
                    7.89,
                    7.89,
                    7.89,
                    7.89,
                    7.89,
                    7.89,
                    7.89,
                    7.89,
                    8.92,
                    8.92,
                    8.92,
                    8.92,
                    8.92,
                    8.92,
                    8.92,
                    8.92,
                    8.92,
                    8.92,
                    8.92,
                    8.92,
                    8.59,
                    8.59,
                    8.59,
                    8.59,
                    8.59,
                    8.59,
                    8.59,
                    8.59,
                    8.59,
                    8.59,
                    8.59,
                    8.59,
                    8.62,
                    8.62,
                    8.62,
                    8.62,
                    8.62,
                    8.62,
                    8.62,
                    8.62,
                    8.62,
                    8.62,
                    8.62,
                    8.62,
                    8.6,
                    8.6,
                    8.6,
                    8.6,
                    8.6,
                    8.6,
                    8.6,
                    8.6,
                    8.6,
                    8.6,
                    8.6,
                    8.6,
                    8.34,
                    8.34,
                    8.34,
                    8.34,
                    8.34,
                    8.34,
                    8.34,
                    8.34,
                    8.34,
                    8.34,
                    8.34,
                    8.34,
                    8.17,
                    8.17,
                    8.17,
                    8.17,
                    8.17,
                    8.17,
                    8.17,
                    8.17,
                    8.17,
                    8.17,
                    8.17,
                    8.17,
                    8.05,
                    8.05,
                    8.05,
                    8.05,
                    8.05,
                    8.05,
                    8.05,
                    8.05,
                    8.05,
                    8.05,
                    8.05,
                    8.05,
                    9.01,
                    9.01,
                    9.01,
                    9.01,
                    9.01,
                    9.01,
                    9.01,
                    9.01,
                    9.01,
                    9.01,
                    9.01,
                    9.01,
                    9.15,
                    9.15,
                    9.15,
                    9.15,
                    9.15,
                    9.15,
                    9.15,
                    9.15,
                    9.15,
                    9.15,
                    9.15,
                    9.15,
                    9.03,
                    9.03,
                    9.03,
                    9.03,
                    9.03,
                    9.03,
                    9.03,
                    9.03,
                    9.03,
                    9.03,
                    9.03,
                    9.03,
                    8.91,
                    8.91,
                    8.91,
                    8.91,
                    8.91,
                    8.91,
                    8.91,
                    8.91,
                    8.91,
                    8.91,
                    8.91,
                    8.91,
                    8.86,
                    8.86,
                    8.86,
                    8.86,
                    8.86,
                    8.86,
                    8.86,
                    8.86,
                    8.86,
                    8.86,
                    8.86,
                    8.86,
                    11.13,
                    11.13,
                    11.13,
                    11.13,
                    11.13,
                    11.13,
                    11.13,
                    11.13,
                    11.13,
                    11.13,
                    11.13,
                    11.13,
                    11,
                    11,
                    11,
                    11,
                    11,
                    11,
                    11,
                    11,
                    11,
                    11,
                    11,
                    11,
                    null,
                    null,
                    null,
                    null,
                    null,
                    null,
                    null,
                    null,
                    null,
                    null,
                    null,
                    null,
                    null,
                    null,
                    null,
                    null,
                    null,
                    null,
                    null,
                    null,
                    null,
                    null
                  ],
                  "yaxis": "y"
                },
                {
                  "hovertemplate": "state=pennsylvania<br>date=%{x}<br>minwage=%{y}<extra></extra>",
                  "legendgroup": "pennsylvania",
                  "line": {
                    "color": "#EF553B",
                    "dash": "solid"
                  },
                  "marker": {
                    "symbol": "circle"
                  },
                  "mode": "lines",
                  "name": "pennsylvania",
                  "showlegend": true,
                  "type": "scattergl",
                  "x": [
                    "1976-01-01T00:00:00",
                    "1976-02-01T00:00:00",
                    "1976-03-01T00:00:00",
                    "1976-04-01T00:00:00",
                    "1976-05-01T00:00:00",
                    "1976-06-01T00:00:00",
                    "1976-07-01T00:00:00",
                    "1976-08-01T00:00:00",
                    "1976-09-01T00:00:00",
                    "1976-10-01T00:00:00",
                    "1976-11-01T00:00:00",
                    "1976-12-01T00:00:00",
                    "1977-01-01T00:00:00",
                    "1977-02-01T00:00:00",
                    "1977-03-01T00:00:00",
                    "1977-04-01T00:00:00",
                    "1977-05-01T00:00:00",
                    "1977-06-01T00:00:00",
                    "1977-07-01T00:00:00",
                    "1977-08-01T00:00:00",
                    "1977-09-01T00:00:00",
                    "1977-10-01T00:00:00",
                    "1977-11-01T00:00:00",
                    "1977-12-01T00:00:00",
                    "1978-01-01T00:00:00",
                    "1978-02-01T00:00:00",
                    "1978-03-01T00:00:00",
                    "1978-04-01T00:00:00",
                    "1978-05-01T00:00:00",
                    "1978-06-01T00:00:00",
                    "1978-07-01T00:00:00",
                    "1978-08-01T00:00:00",
                    "1978-09-01T00:00:00",
                    "1978-10-01T00:00:00",
                    "1978-11-01T00:00:00",
                    "1978-12-01T00:00:00",
                    "1979-01-01T00:00:00",
                    "1979-02-01T00:00:00",
                    "1979-03-01T00:00:00",
                    "1979-04-01T00:00:00",
                    "1979-05-01T00:00:00",
                    "1979-06-01T00:00:00",
                    "1979-07-01T00:00:00",
                    "1979-08-01T00:00:00",
                    "1979-09-01T00:00:00",
                    "1979-10-01T00:00:00",
                    "1979-11-01T00:00:00",
                    "1979-12-01T00:00:00",
                    "1980-01-01T00:00:00",
                    "1980-02-01T00:00:00",
                    "1980-03-01T00:00:00",
                    "1980-04-01T00:00:00",
                    "1980-05-01T00:00:00",
                    "1980-06-01T00:00:00",
                    "1980-07-01T00:00:00",
                    "1980-08-01T00:00:00",
                    "1980-09-01T00:00:00",
                    "1980-10-01T00:00:00",
                    "1980-11-01T00:00:00",
                    "1980-12-01T00:00:00",
                    "1981-01-01T00:00:00",
                    "1981-02-01T00:00:00",
                    "1981-03-01T00:00:00",
                    "1981-04-01T00:00:00",
                    "1981-05-01T00:00:00",
                    "1981-06-01T00:00:00",
                    "1981-07-01T00:00:00",
                    "1981-08-01T00:00:00",
                    "1981-09-01T00:00:00",
                    "1981-10-01T00:00:00",
                    "1981-11-01T00:00:00",
                    "1981-12-01T00:00:00",
                    "1982-01-01T00:00:00",
                    "1982-02-01T00:00:00",
                    "1982-03-01T00:00:00",
                    "1982-04-01T00:00:00",
                    "1982-05-01T00:00:00",
                    "1982-06-01T00:00:00",
                    "1982-07-01T00:00:00",
                    "1982-08-01T00:00:00",
                    "1982-09-01T00:00:00",
                    "1982-10-01T00:00:00",
                    "1982-11-01T00:00:00",
                    "1982-12-01T00:00:00",
                    "1983-01-01T00:00:00",
                    "1983-02-01T00:00:00",
                    "1983-03-01T00:00:00",
                    "1983-04-01T00:00:00",
                    "1983-05-01T00:00:00",
                    "1983-06-01T00:00:00",
                    "1983-07-01T00:00:00",
                    "1983-08-01T00:00:00",
                    "1983-09-01T00:00:00",
                    "1983-10-01T00:00:00",
                    "1983-11-01T00:00:00",
                    "1983-12-01T00:00:00",
                    "1984-01-01T00:00:00",
                    "1984-02-01T00:00:00",
                    "1984-03-01T00:00:00",
                    "1984-04-01T00:00:00",
                    "1984-05-01T00:00:00",
                    "1984-06-01T00:00:00",
                    "1984-07-01T00:00:00",
                    "1984-08-01T00:00:00",
                    "1984-09-01T00:00:00",
                    "1984-10-01T00:00:00",
                    "1984-11-01T00:00:00",
                    "1984-12-01T00:00:00",
                    "1985-01-01T00:00:00",
                    "1985-02-01T00:00:00",
                    "1985-03-01T00:00:00",
                    "1985-04-01T00:00:00",
                    "1985-05-01T00:00:00",
                    "1985-06-01T00:00:00",
                    "1985-07-01T00:00:00",
                    "1985-08-01T00:00:00",
                    "1985-09-01T00:00:00",
                    "1985-10-01T00:00:00",
                    "1985-11-01T00:00:00",
                    "1985-12-01T00:00:00",
                    "1986-01-01T00:00:00",
                    "1986-02-01T00:00:00",
                    "1986-03-01T00:00:00",
                    "1986-04-01T00:00:00",
                    "1986-05-01T00:00:00",
                    "1986-06-01T00:00:00",
                    "1986-07-01T00:00:00",
                    "1986-08-01T00:00:00",
                    "1986-09-01T00:00:00",
                    "1986-10-01T00:00:00",
                    "1986-11-01T00:00:00",
                    "1986-12-01T00:00:00",
                    "1987-01-01T00:00:00",
                    "1987-02-01T00:00:00",
                    "1987-03-01T00:00:00",
                    "1987-04-01T00:00:00",
                    "1987-05-01T00:00:00",
                    "1987-06-01T00:00:00",
                    "1987-07-01T00:00:00",
                    "1987-08-01T00:00:00",
                    "1987-09-01T00:00:00",
                    "1987-10-01T00:00:00",
                    "1987-11-01T00:00:00",
                    "1987-12-01T00:00:00",
                    "1988-01-01T00:00:00",
                    "1988-02-01T00:00:00",
                    "1988-03-01T00:00:00",
                    "1988-04-01T00:00:00",
                    "1988-05-01T00:00:00",
                    "1988-06-01T00:00:00",
                    "1988-07-01T00:00:00",
                    "1988-08-01T00:00:00",
                    "1988-09-01T00:00:00",
                    "1988-10-01T00:00:00",
                    "1988-11-01T00:00:00",
                    "1988-12-01T00:00:00",
                    "1989-01-01T00:00:00",
                    "1989-02-01T00:00:00",
                    "1989-03-01T00:00:00",
                    "1989-04-01T00:00:00",
                    "1989-05-01T00:00:00",
                    "1989-06-01T00:00:00",
                    "1989-07-01T00:00:00",
                    "1989-08-01T00:00:00",
                    "1989-09-01T00:00:00",
                    "1989-10-01T00:00:00",
                    "1989-11-01T00:00:00",
                    "1989-12-01T00:00:00",
                    "1990-01-01T00:00:00",
                    "1990-02-01T00:00:00",
                    "1990-03-01T00:00:00",
                    "1990-04-01T00:00:00",
                    "1990-05-01T00:00:00",
                    "1990-06-01T00:00:00",
                    "1990-07-01T00:00:00",
                    "1990-08-01T00:00:00",
                    "1990-09-01T00:00:00",
                    "1990-10-01T00:00:00",
                    "1990-11-01T00:00:00",
                    "1990-12-01T00:00:00",
                    "1991-01-01T00:00:00",
                    "1991-02-01T00:00:00",
                    "1991-03-01T00:00:00",
                    "1991-04-01T00:00:00",
                    "1991-05-01T00:00:00",
                    "1991-06-01T00:00:00",
                    "1991-07-01T00:00:00",
                    "1991-08-01T00:00:00",
                    "1991-09-01T00:00:00",
                    "1991-10-01T00:00:00",
                    "1991-11-01T00:00:00",
                    "1991-12-01T00:00:00",
                    "1992-01-01T00:00:00",
                    "1992-02-01T00:00:00",
                    "1992-03-01T00:00:00",
                    "1992-04-01T00:00:00",
                    "1992-05-01T00:00:00",
                    "1992-06-01T00:00:00",
                    "1992-07-01T00:00:00",
                    "1992-08-01T00:00:00",
                    "1992-09-01T00:00:00",
                    "1992-10-01T00:00:00",
                    "1992-11-01T00:00:00",
                    "1992-12-01T00:00:00",
                    "1993-01-01T00:00:00",
                    "1993-02-01T00:00:00",
                    "1993-03-01T00:00:00",
                    "1993-04-01T00:00:00",
                    "1993-05-01T00:00:00",
                    "1993-06-01T00:00:00",
                    "1993-07-01T00:00:00",
                    "1993-08-01T00:00:00",
                    "1993-09-01T00:00:00",
                    "1993-10-01T00:00:00",
                    "1993-11-01T00:00:00",
                    "1993-12-01T00:00:00",
                    "1994-01-01T00:00:00",
                    "1994-02-01T00:00:00",
                    "1994-03-01T00:00:00",
                    "1994-04-01T00:00:00",
                    "1994-05-01T00:00:00",
                    "1994-06-01T00:00:00",
                    "1994-07-01T00:00:00",
                    "1994-08-01T00:00:00",
                    "1994-09-01T00:00:00",
                    "1994-10-01T00:00:00",
                    "1994-11-01T00:00:00",
                    "1994-12-01T00:00:00",
                    "1995-01-01T00:00:00",
                    "1995-02-01T00:00:00",
                    "1995-03-01T00:00:00",
                    "1995-04-01T00:00:00",
                    "1995-05-01T00:00:00",
                    "1995-06-01T00:00:00",
                    "1995-07-01T00:00:00",
                    "1995-08-01T00:00:00",
                    "1995-09-01T00:00:00",
                    "1995-10-01T00:00:00",
                    "1995-11-01T00:00:00",
                    "1995-12-01T00:00:00",
                    "1996-01-01T00:00:00",
                    "1996-02-01T00:00:00",
                    "1996-03-01T00:00:00",
                    "1996-04-01T00:00:00",
                    "1996-05-01T00:00:00",
                    "1996-06-01T00:00:00",
                    "1996-07-01T00:00:00",
                    "1996-08-01T00:00:00",
                    "1996-09-01T00:00:00",
                    "1996-10-01T00:00:00",
                    "1996-11-01T00:00:00",
                    "1996-12-01T00:00:00",
                    "1997-01-01T00:00:00",
                    "1997-02-01T00:00:00",
                    "1997-03-01T00:00:00",
                    "1997-04-01T00:00:00",
                    "1997-05-01T00:00:00",
                    "1997-06-01T00:00:00",
                    "1997-07-01T00:00:00",
                    "1997-08-01T00:00:00",
                    "1997-09-01T00:00:00",
                    "1997-10-01T00:00:00",
                    "1997-11-01T00:00:00",
                    "1997-12-01T00:00:00",
                    "1998-01-01T00:00:00",
                    "1998-02-01T00:00:00",
                    "1998-03-01T00:00:00",
                    "1998-04-01T00:00:00",
                    "1998-05-01T00:00:00",
                    "1998-06-01T00:00:00",
                    "1998-07-01T00:00:00",
                    "1998-08-01T00:00:00",
                    "1998-09-01T00:00:00",
                    "1998-10-01T00:00:00",
                    "1998-11-01T00:00:00",
                    "1998-12-01T00:00:00",
                    "1999-01-01T00:00:00",
                    "1999-02-01T00:00:00",
                    "1999-03-01T00:00:00",
                    "1999-04-01T00:00:00",
                    "1999-05-01T00:00:00",
                    "1999-06-01T00:00:00",
                    "1999-07-01T00:00:00",
                    "1999-08-01T00:00:00",
                    "1999-09-01T00:00:00",
                    "1999-10-01T00:00:00",
                    "1999-11-01T00:00:00",
                    "1999-12-01T00:00:00",
                    "2000-01-01T00:00:00",
                    "2000-02-01T00:00:00",
                    "2000-03-01T00:00:00",
                    "2000-04-01T00:00:00",
                    "2000-05-01T00:00:00",
                    "2000-06-01T00:00:00",
                    "2000-07-01T00:00:00",
                    "2000-08-01T00:00:00",
                    "2000-09-01T00:00:00",
                    "2000-10-01T00:00:00",
                    "2000-11-01T00:00:00",
                    "2000-12-01T00:00:00",
                    "2001-01-01T00:00:00",
                    "2001-02-01T00:00:00",
                    "2001-03-01T00:00:00",
                    "2001-04-01T00:00:00",
                    "2001-05-01T00:00:00",
                    "2001-06-01T00:00:00",
                    "2001-07-01T00:00:00",
                    "2001-08-01T00:00:00",
                    "2001-09-01T00:00:00",
                    "2001-10-01T00:00:00",
                    "2001-11-01T00:00:00",
                    "2001-12-01T00:00:00",
                    "2002-01-01T00:00:00",
                    "2002-02-01T00:00:00",
                    "2002-03-01T00:00:00",
                    "2002-04-01T00:00:00",
                    "2002-05-01T00:00:00",
                    "2002-06-01T00:00:00",
                    "2002-07-01T00:00:00",
                    "2002-08-01T00:00:00",
                    "2002-09-01T00:00:00",
                    "2002-10-01T00:00:00",
                    "2002-11-01T00:00:00",
                    "2002-12-01T00:00:00",
                    "2003-01-01T00:00:00",
                    "2003-02-01T00:00:00",
                    "2003-03-01T00:00:00",
                    "2003-04-01T00:00:00",
                    "2003-05-01T00:00:00",
                    "2003-06-01T00:00:00",
                    "2003-07-01T00:00:00",
                    "2003-08-01T00:00:00",
                    "2003-09-01T00:00:00",
                    "2003-10-01T00:00:00",
                    "2003-11-01T00:00:00",
                    "2003-12-01T00:00:00",
                    "2004-01-01T00:00:00",
                    "2004-02-01T00:00:00",
                    "2004-03-01T00:00:00",
                    "2004-04-01T00:00:00",
                    "2004-05-01T00:00:00",
                    "2004-06-01T00:00:00",
                    "2004-07-01T00:00:00",
                    "2004-08-01T00:00:00",
                    "2004-09-01T00:00:00",
                    "2004-10-01T00:00:00",
                    "2004-11-01T00:00:00",
                    "2004-12-01T00:00:00",
                    "2005-01-01T00:00:00",
                    "2005-02-01T00:00:00",
                    "2005-03-01T00:00:00",
                    "2005-04-01T00:00:00",
                    "2005-05-01T00:00:00",
                    "2005-06-01T00:00:00",
                    "2005-07-01T00:00:00",
                    "2005-08-01T00:00:00",
                    "2005-09-01T00:00:00",
                    "2005-10-01T00:00:00",
                    "2005-11-01T00:00:00",
                    "2005-12-01T00:00:00",
                    "2006-01-01T00:00:00",
                    "2006-02-01T00:00:00",
                    "2006-03-01T00:00:00",
                    "2006-04-01T00:00:00",
                    "2006-05-01T00:00:00",
                    "2006-06-01T00:00:00",
                    "2006-07-01T00:00:00",
                    "2006-08-01T00:00:00",
                    "2006-09-01T00:00:00",
                    "2006-10-01T00:00:00",
                    "2006-11-01T00:00:00",
                    "2006-12-01T00:00:00",
                    "2007-01-01T00:00:00",
                    "2007-02-01T00:00:00",
                    "2007-03-01T00:00:00",
                    "2007-04-01T00:00:00",
                    "2007-05-01T00:00:00",
                    "2007-06-01T00:00:00",
                    "2007-07-01T00:00:00",
                    "2007-08-01T00:00:00",
                    "2007-09-01T00:00:00",
                    "2007-10-01T00:00:00",
                    "2007-11-01T00:00:00",
                    "2007-12-01T00:00:00",
                    "2008-01-01T00:00:00",
                    "2008-02-01T00:00:00",
                    "2008-03-01T00:00:00",
                    "2008-04-01T00:00:00",
                    "2008-05-01T00:00:00",
                    "2008-06-01T00:00:00",
                    "2008-07-01T00:00:00",
                    "2008-08-01T00:00:00",
                    "2008-09-01T00:00:00",
                    "2008-10-01T00:00:00",
                    "2008-11-01T00:00:00",
                    "2008-12-01T00:00:00",
                    "2009-01-01T00:00:00",
                    "2009-02-01T00:00:00",
                    "2009-03-01T00:00:00",
                    "2009-04-01T00:00:00",
                    "2009-05-01T00:00:00",
                    "2009-06-01T00:00:00",
                    "2009-07-01T00:00:00",
                    "2009-08-01T00:00:00",
                    "2009-09-01T00:00:00",
                    "2009-10-01T00:00:00",
                    "2009-11-01T00:00:00",
                    "2009-12-01T00:00:00",
                    "2010-01-01T00:00:00",
                    "2010-02-01T00:00:00",
                    "2010-03-01T00:00:00",
                    "2010-04-01T00:00:00",
                    "2010-05-01T00:00:00",
                    "2010-06-01T00:00:00",
                    "2010-07-01T00:00:00",
                    "2010-08-01T00:00:00",
                    "2010-09-01T00:00:00",
                    "2010-10-01T00:00:00",
                    "2010-11-01T00:00:00",
                    "2010-12-01T00:00:00",
                    "2011-01-01T00:00:00",
                    "2011-02-01T00:00:00",
                    "2011-03-01T00:00:00",
                    "2011-04-01T00:00:00",
                    "2011-05-01T00:00:00",
                    "2011-06-01T00:00:00",
                    "2011-07-01T00:00:00",
                    "2011-08-01T00:00:00",
                    "2011-09-01T00:00:00",
                    "2011-10-01T00:00:00",
                    "2011-11-01T00:00:00",
                    "2011-12-01T00:00:00",
                    "2012-01-01T00:00:00",
                    "2012-02-01T00:00:00",
                    "2012-03-01T00:00:00",
                    "2012-04-01T00:00:00",
                    "2012-05-01T00:00:00",
                    "2012-06-01T00:00:00",
                    "2012-07-01T00:00:00",
                    "2012-08-01T00:00:00",
                    "2012-09-01T00:00:00",
                    "2012-10-01T00:00:00",
                    "2012-11-01T00:00:00",
                    "2012-12-01T00:00:00",
                    "2013-01-01T00:00:00",
                    "2013-02-01T00:00:00",
                    "2013-03-01T00:00:00",
                    "2013-04-01T00:00:00",
                    "2013-05-01T00:00:00",
                    "2013-06-01T00:00:00",
                    "2013-07-01T00:00:00",
                    "2013-08-01T00:00:00",
                    "2013-09-01T00:00:00",
                    "2013-10-01T00:00:00",
                    "2013-11-01T00:00:00",
                    "2013-12-01T00:00:00",
                    "2014-01-01T00:00:00",
                    "2014-02-01T00:00:00",
                    "2014-03-01T00:00:00",
                    "2014-04-01T00:00:00",
                    "2014-05-01T00:00:00",
                    "2014-06-01T00:00:00",
                    "2014-07-01T00:00:00",
                    "2014-08-01T00:00:00",
                    "2014-09-01T00:00:00",
                    "2014-10-01T00:00:00",
                    "2014-11-01T00:00:00",
                    "2014-12-01T00:00:00",
                    "2015-01-01T00:00:00",
                    "2015-02-01T00:00:00",
                    "2015-03-01T00:00:00",
                    "2015-04-01T00:00:00",
                    "2015-05-01T00:00:00",
                    "2015-06-01T00:00:00",
                    "2015-07-01T00:00:00",
                    "2015-08-01T00:00:00",
                    "2015-09-01T00:00:00",
                    "2015-10-01T00:00:00",
                    "2015-11-01T00:00:00",
                    "2015-12-01T00:00:00",
                    "2016-01-01T00:00:00",
                    "2016-02-01T00:00:00",
                    "2016-03-01T00:00:00",
                    "2016-04-01T00:00:00",
                    "2016-05-01T00:00:00",
                    "2016-06-01T00:00:00",
                    "2016-07-01T00:00:00",
                    "2016-08-01T00:00:00",
                    "2016-09-01T00:00:00",
                    "2016-10-01T00:00:00",
                    "2016-11-01T00:00:00",
                    "2016-12-01T00:00:00",
                    "2017-01-01T00:00:00",
                    "2017-02-01T00:00:00",
                    "2017-03-01T00:00:00",
                    "2017-04-01T00:00:00",
                    "2017-05-01T00:00:00",
                    "2017-06-01T00:00:00",
                    "2017-07-01T00:00:00",
                    "2017-08-01T00:00:00",
                    "2017-09-01T00:00:00",
                    "2017-10-01T00:00:00",
                    "2017-11-01T00:00:00",
                    "2017-12-01T00:00:00",
                    "2018-01-01T00:00:00",
                    "2018-02-01T00:00:00",
                    "2018-03-01T00:00:00",
                    "2018-04-01T00:00:00",
                    "2018-05-01T00:00:00",
                    "2018-06-01T00:00:00",
                    "2018-07-01T00:00:00",
                    "2018-08-01T00:00:00",
                    "2018-09-01T00:00:00",
                    "2018-10-01T00:00:00",
                    "2018-11-01T00:00:00",
                    "2018-12-01T00:00:00",
                    "2019-01-01T00:00:00",
                    "2019-02-01T00:00:00",
                    "2019-03-01T00:00:00",
                    "2019-04-01T00:00:00",
                    "2019-05-01T00:00:00",
                    "2019-06-01T00:00:00",
                    "2019-07-01T00:00:00",
                    "2019-08-01T00:00:00",
                    "2019-09-01T00:00:00",
                    "2019-10-01T00:00:00",
                    "2019-11-01T00:00:00",
                    "2019-12-01T00:00:00",
                    "2020-01-01T00:00:00",
                    "2020-02-01T00:00:00",
                    "2020-03-01T00:00:00",
                    "2020-04-01T00:00:00",
                    "2020-05-01T00:00:00",
                    "2020-06-01T00:00:00",
                    "2020-07-01T00:00:00",
                    "2020-08-01T00:00:00",
                    "2020-09-01T00:00:00",
                    "2020-10-01T00:00:00",
                    "2020-11-01T00:00:00",
                    "2020-12-01T00:00:00",
                    "2021-01-01T00:00:00",
                    "2021-02-01T00:00:00",
                    "2021-03-01T00:00:00",
                    "2021-04-01T00:00:00",
                    "2021-05-01T00:00:00",
                    "2021-06-01T00:00:00",
                    "2021-07-01T00:00:00",
                    "2021-08-01T00:00:00",
                    "2021-09-01T00:00:00",
                    "2021-10-01T00:00:00",
                    "2021-11-01T00:00:00",
                    "2021-12-01T00:00:00",
                    "2022-01-01T00:00:00",
                    "2022-02-01T00:00:00",
                    "2022-03-01T00:00:00",
                    "2022-04-01T00:00:00",
                    "2022-05-01T00:00:00",
                    "2022-06-01T00:00:00",
                    "2022-07-01T00:00:00",
                    "2022-08-01T00:00:00",
                    "2022-09-01T00:00:00",
                    "2022-10-01T00:00:00"
                  ],
                  "xaxis": "x",
                  "y": [
                    10,
                    10,
                    10,
                    10,
                    10,
                    10,
                    10,
                    10,
                    10,
                    10,
                    10,
                    10,
                    9.39,
                    9.39,
                    9.39,
                    9.39,
                    9.39,
                    9.39,
                    9.39,
                    9.39,
                    9.39,
                    9.39,
                    9.39,
                    9.39,
                    8.73,
                    8.73,
                    8.73,
                    8.73,
                    8.73,
                    8.73,
                    8.73,
                    8.73,
                    8.73,
                    8.73,
                    8.73,
                    8.73,
                    10.33,
                    10.33,
                    10.33,
                    10.33,
                    10.33,
                    10.33,
                    10.33,
                    10.33,
                    10.33,
                    10.33,
                    10.33,
                    10.33,
                    9.73,
                    9.73,
                    9.73,
                    9.73,
                    9.73,
                    9.73,
                    9.73,
                    9.73,
                    9.73,
                    9.73,
                    9.73,
                    9.73,
                    9.53,
                    9.53,
                    9.53,
                    9.53,
                    9.53,
                    9.53,
                    9.53,
                    9.53,
                    9.53,
                    9.53,
                    9.53,
                    9.53,
                    8.98,
                    8.98,
                    8.98,
                    8.98,
                    8.98,
                    8.98,
                    8.98,
                    8.98,
                    8.98,
                    8.98,
                    8.98,
                    8.98,
                    8.7,
                    8.7,
                    8.7,
                    8.7,
                    8.7,
                    8.7,
                    8.7,
                    8.7,
                    8.7,
                    8.7,
                    8.7,
                    8.7,
                    8.34,
                    8.34,
                    8.34,
                    8.34,
                    8.34,
                    8.34,
                    8.34,
                    8.34,
                    8.34,
                    8.34,
                    8.34,
                    8.34,
                    8.05,
                    8.05,
                    8.05,
                    8.05,
                    8.05,
                    8.05,
                    8.05,
                    8.05,
                    8.05,
                    8.05,
                    8.05,
                    8.05,
                    7.91,
                    7.91,
                    7.91,
                    7.91,
                    7.91,
                    7.91,
                    7.91,
                    7.91,
                    7.91,
                    7.91,
                    7.91,
                    7.91,
                    7.63,
                    7.63,
                    7.63,
                    7.63,
                    7.63,
                    7.63,
                    7.63,
                    7.63,
                    7.63,
                    7.63,
                    7.63,
                    7.63,
                    7.32,
                    7.32,
                    7.32,
                    7.32,
                    7.32,
                    7.32,
                    7.32,
                    7.32,
                    7.32,
                    7.32,
                    7.32,
                    7.32,
                    6.99,
                    6.99,
                    6.99,
                    6.99,
                    6.99,
                    6.99,
                    6.99,
                    6.99,
                    6.99,
                    6.99,
                    6.99,
                    6.99,
                    6.63,
                    6.63,
                    6.63,
                    6.63,
                    6.63,
                    6.63,
                    6.63,
                    6.63,
                    6.63,
                    6.63,
                    6.63,
                    6.63,
                    7.22,
                    7.22,
                    7.22,
                    7.22,
                    7.22,
                    7.22,
                    7.22,
                    7.22,
                    7.22,
                    7.22,
                    7.22,
                    7.22,
                    7.84,
                    7.84,
                    7.84,
                    7.84,
                    7.84,
                    7.84,
                    7.84,
                    7.84,
                    7.84,
                    7.84,
                    7.84,
                    7.84,
                    7.61,
                    7.61,
                    7.61,
                    7.61,
                    7.61,
                    7.61,
                    7.61,
                    7.61,
                    7.61,
                    7.61,
                    7.61,
                    7.61,
                    7.42,
                    7.42,
                    7.42,
                    7.42,
                    7.42,
                    7.42,
                    7.42,
                    7.42,
                    7.42,
                    7.42,
                    7.42,
                    7.42,
                    7.21,
                    7.21,
                    7.21,
                    7.21,
                    7.21,
                    7.21,
                    7.21,
                    7.21,
                    7.21,
                    7.21,
                    7.21,
                    7.21,
                    7.01,
                    7.01,
                    7.01,
                    7.01,
                    7.01,
                    7.01,
                    7.01,
                    7.01,
                    7.01,
                    7.01,
                    7.01,
                    7.01,
                    7.66,
                    7.66,
                    7.66,
                    7.66,
                    7.66,
                    7.66,
                    7.66,
                    7.66,
                    7.66,
                    7.66,
                    7.66,
                    7.66,
                    8.17,
                    8.17,
                    8.17,
                    8.17,
                    8.17,
                    8.17,
                    8.17,
                    8.17,
                    8.17,
                    8.17,
                    8.17,
                    8.17,
                    8,
                    8,
                    8,
                    8,
                    8,
                    8,
                    8,
                    8,
                    8,
                    8,
                    8,
                    8,
                    7.74,
                    7.74,
                    7.74,
                    7.74,
                    7.74,
                    7.74,
                    7.74,
                    7.74,
                    7.74,
                    7.74,
                    7.74,
                    7.74,
                    7.52,
                    7.52,
                    7.52,
                    7.52,
                    7.52,
                    7.52,
                    7.52,
                    7.52,
                    7.52,
                    7.52,
                    7.52,
                    7.52,
                    7.4,
                    7.4,
                    7.4,
                    7.4,
                    7.4,
                    7.4,
                    7.4,
                    7.4,
                    7.4,
                    7.4,
                    7.4,
                    7.4,
                    7.24,
                    7.24,
                    7.24,
                    7.24,
                    7.24,
                    7.24,
                    7.24,
                    7.24,
                    7.24,
                    7.24,
                    7.24,
                    7.24,
                    7.05,
                    7.05,
                    7.05,
                    7.05,
                    7.05,
                    7.05,
                    7.05,
                    7.05,
                    7.05,
                    7.05,
                    7.05,
                    7.05,
                    6.82,
                    6.82,
                    6.82,
                    6.82,
                    6.82,
                    6.82,
                    6.82,
                    6.82,
                    6.82,
                    6.82,
                    6.82,
                    6.82,
                    6.61,
                    6.61,
                    6.61,
                    6.61,
                    6.61,
                    6.61,
                    6.61,
                    6.61,
                    6.61,
                    6.61,
                    6.61,
                    6.61,
                    7.8,
                    7.8,
                    7.8,
                    7.8,
                    7.8,
                    7.8,
                    7.8,
                    7.8,
                    7.8,
                    7.8,
                    7.8,
                    7.8,
                    8.59,
                    8.59,
                    8.59,
                    8.59,
                    8.59,
                    8.59,
                    8.59,
                    8.59,
                    8.59,
                    8.59,
                    8.59,
                    8.59,
                    8.62,
                    8.62,
                    8.62,
                    8.62,
                    8.62,
                    8.62,
                    8.62,
                    8.62,
                    8.62,
                    8.62,
                    8.62,
                    8.62,
                    8.6,
                    8.6,
                    8.6,
                    8.6,
                    8.6,
                    8.6,
                    8.6,
                    8.6,
                    8.6,
                    8.6,
                    8.6,
                    8.6,
                    8.34,
                    8.34,
                    8.34,
                    8.34,
                    8.34,
                    8.34,
                    8.34,
                    8.34,
                    8.34,
                    8.34,
                    8.34,
                    8.34,
                    8.17,
                    8.17,
                    8.17,
                    8.17,
                    8.17,
                    8.17,
                    8.17,
                    8.17,
                    8.17,
                    8.17,
                    8.17,
                    8.17,
                    8.05,
                    8.05,
                    8.05,
                    8.05,
                    8.05,
                    8.05,
                    8.05,
                    8.05,
                    8.05,
                    8.05,
                    8.05,
                    8.05,
                    7.92,
                    7.92,
                    7.92,
                    7.92,
                    7.92,
                    7.92,
                    7.92,
                    7.92,
                    7.92,
                    7.92,
                    7.92,
                    7.92,
                    7.91,
                    7.91,
                    7.91,
                    7.91,
                    7.91,
                    7.91,
                    7.91,
                    7.91,
                    7.91,
                    7.91,
                    7.91,
                    7.91,
                    7.81,
                    7.81,
                    7.81,
                    7.81,
                    7.81,
                    7.81,
                    7.81,
                    7.81,
                    7.81,
                    7.81,
                    7.81,
                    7.81,
                    7.65,
                    7.65,
                    7.65,
                    7.65,
                    7.65,
                    7.65,
                    7.65,
                    7.65,
                    7.65,
                    7.65,
                    7.65,
                    7.65,
                    7.47,
                    7.47,
                    7.47,
                    7.47,
                    7.47,
                    7.47,
                    7.47,
                    7.47,
                    7.47,
                    7.47,
                    7.47,
                    7.47,
                    7.34,
                    7.34,
                    7.34,
                    7.34,
                    7.34,
                    7.34,
                    7.34,
                    7.34,
                    7.34,
                    7.34,
                    7.34,
                    7.34,
                    7.25,
                    7.25,
                    7.25,
                    7.25,
                    7.25,
                    7.25,
                    7.25,
                    7.25,
                    7.25,
                    7.25,
                    7.25,
                    7.25,
                    null,
                    null,
                    null,
                    null,
                    null,
                    null,
                    null,
                    null,
                    null,
                    null,
                    null,
                    null,
                    null,
                    null,
                    null,
                    null,
                    null,
                    null,
                    null,
                    null,
                    null,
                    null
                  ],
                  "yaxis": "y"
                }
              ],
              "layout": {
                "legend": {
                  "title": {
                    "text": "state"
                  },
                  "tracegroupgap": 0
                },
                "template": {
                  "data": {
                    "bar": [
                      {
                        "error_x": {
                          "color": "#2a3f5f"
                        },
                        "error_y": {
                          "color": "#2a3f5f"
                        },
                        "marker": {
                          "line": {
                            "color": "#E5ECF6",
                            "width": 0.5
                          },
                          "pattern": {
                            "fillmode": "overlay",
                            "size": 10,
                            "solidity": 0.2
                          }
                        },
                        "type": "bar"
                      }
                    ],
                    "barpolar": [
                      {
                        "marker": {
                          "line": {
                            "color": "#E5ECF6",
                            "width": 0.5
                          },
                          "pattern": {
                            "fillmode": "overlay",
                            "size": 10,
                            "solidity": 0.2
                          }
                        },
                        "type": "barpolar"
                      }
                    ],
                    "carpet": [
                      {
                        "aaxis": {
                          "endlinecolor": "#2a3f5f",
                          "gridcolor": "white",
                          "linecolor": "white",
                          "minorgridcolor": "white",
                          "startlinecolor": "#2a3f5f"
                        },
                        "baxis": {
                          "endlinecolor": "#2a3f5f",
                          "gridcolor": "white",
                          "linecolor": "white",
                          "minorgridcolor": "white",
                          "startlinecolor": "#2a3f5f"
                        },
                        "type": "carpet"
                      }
                    ],
                    "choropleth": [
                      {
                        "colorbar": {
                          "outlinewidth": 0,
                          "ticks": ""
                        },
                        "type": "choropleth"
                      }
                    ],
                    "contour": [
                      {
                        "colorbar": {
                          "outlinewidth": 0,
                          "ticks": ""
                        },
                        "colorscale": [
                          [
                            0,
                            "#0d0887"
                          ],
                          [
                            0.1111111111111111,
                            "#46039f"
                          ],
                          [
                            0.2222222222222222,
                            "#7201a8"
                          ],
                          [
                            0.3333333333333333,
                            "#9c179e"
                          ],
                          [
                            0.4444444444444444,
                            "#bd3786"
                          ],
                          [
                            0.5555555555555556,
                            "#d8576b"
                          ],
                          [
                            0.6666666666666666,
                            "#ed7953"
                          ],
                          [
                            0.7777777777777778,
                            "#fb9f3a"
                          ],
                          [
                            0.8888888888888888,
                            "#fdca26"
                          ],
                          [
                            1,
                            "#f0f921"
                          ]
                        ],
                        "type": "contour"
                      }
                    ],
                    "contourcarpet": [
                      {
                        "colorbar": {
                          "outlinewidth": 0,
                          "ticks": ""
                        },
                        "type": "contourcarpet"
                      }
                    ],
                    "heatmap": [
                      {
                        "colorbar": {
                          "outlinewidth": 0,
                          "ticks": ""
                        },
                        "colorscale": [
                          [
                            0,
                            "#0d0887"
                          ],
                          [
                            0.1111111111111111,
                            "#46039f"
                          ],
                          [
                            0.2222222222222222,
                            "#7201a8"
                          ],
                          [
                            0.3333333333333333,
                            "#9c179e"
                          ],
                          [
                            0.4444444444444444,
                            "#bd3786"
                          ],
                          [
                            0.5555555555555556,
                            "#d8576b"
                          ],
                          [
                            0.6666666666666666,
                            "#ed7953"
                          ],
                          [
                            0.7777777777777778,
                            "#fb9f3a"
                          ],
                          [
                            0.8888888888888888,
                            "#fdca26"
                          ],
                          [
                            1,
                            "#f0f921"
                          ]
                        ],
                        "type": "heatmap"
                      }
                    ],
                    "heatmapgl": [
                      {
                        "colorbar": {
                          "outlinewidth": 0,
                          "ticks": ""
                        },
                        "colorscale": [
                          [
                            0,
                            "#0d0887"
                          ],
                          [
                            0.1111111111111111,
                            "#46039f"
                          ],
                          [
                            0.2222222222222222,
                            "#7201a8"
                          ],
                          [
                            0.3333333333333333,
                            "#9c179e"
                          ],
                          [
                            0.4444444444444444,
                            "#bd3786"
                          ],
                          [
                            0.5555555555555556,
                            "#d8576b"
                          ],
                          [
                            0.6666666666666666,
                            "#ed7953"
                          ],
                          [
                            0.7777777777777778,
                            "#fb9f3a"
                          ],
                          [
                            0.8888888888888888,
                            "#fdca26"
                          ],
                          [
                            1,
                            "#f0f921"
                          ]
                        ],
                        "type": "heatmapgl"
                      }
                    ],
                    "histogram": [
                      {
                        "marker": {
                          "pattern": {
                            "fillmode": "overlay",
                            "size": 10,
                            "solidity": 0.2
                          }
                        },
                        "type": "histogram"
                      }
                    ],
                    "histogram2d": [
                      {
                        "colorbar": {
                          "outlinewidth": 0,
                          "ticks": ""
                        },
                        "colorscale": [
                          [
                            0,
                            "#0d0887"
                          ],
                          [
                            0.1111111111111111,
                            "#46039f"
                          ],
                          [
                            0.2222222222222222,
                            "#7201a8"
                          ],
                          [
                            0.3333333333333333,
                            "#9c179e"
                          ],
                          [
                            0.4444444444444444,
                            "#bd3786"
                          ],
                          [
                            0.5555555555555556,
                            "#d8576b"
                          ],
                          [
                            0.6666666666666666,
                            "#ed7953"
                          ],
                          [
                            0.7777777777777778,
                            "#fb9f3a"
                          ],
                          [
                            0.8888888888888888,
                            "#fdca26"
                          ],
                          [
                            1,
                            "#f0f921"
                          ]
                        ],
                        "type": "histogram2d"
                      }
                    ],
                    "histogram2dcontour": [
                      {
                        "colorbar": {
                          "outlinewidth": 0,
                          "ticks": ""
                        },
                        "colorscale": [
                          [
                            0,
                            "#0d0887"
                          ],
                          [
                            0.1111111111111111,
                            "#46039f"
                          ],
                          [
                            0.2222222222222222,
                            "#7201a8"
                          ],
                          [
                            0.3333333333333333,
                            "#9c179e"
                          ],
                          [
                            0.4444444444444444,
                            "#bd3786"
                          ],
                          [
                            0.5555555555555556,
                            "#d8576b"
                          ],
                          [
                            0.6666666666666666,
                            "#ed7953"
                          ],
                          [
                            0.7777777777777778,
                            "#fb9f3a"
                          ],
                          [
                            0.8888888888888888,
                            "#fdca26"
                          ],
                          [
                            1,
                            "#f0f921"
                          ]
                        ],
                        "type": "histogram2dcontour"
                      }
                    ],
                    "mesh3d": [
                      {
                        "colorbar": {
                          "outlinewidth": 0,
                          "ticks": ""
                        },
                        "type": "mesh3d"
                      }
                    ],
                    "parcoords": [
                      {
                        "line": {
                          "colorbar": {
                            "outlinewidth": 0,
                            "ticks": ""
                          }
                        },
                        "type": "parcoords"
                      }
                    ],
                    "pie": [
                      {
                        "automargin": true,
                        "type": "pie"
                      }
                    ],
                    "scatter": [
                      {
                        "marker": {
                          "colorbar": {
                            "outlinewidth": 0,
                            "ticks": ""
                          }
                        },
                        "type": "scatter"
                      }
                    ],
                    "scatter3d": [
                      {
                        "line": {
                          "colorbar": {
                            "outlinewidth": 0,
                            "ticks": ""
                          }
                        },
                        "marker": {
                          "colorbar": {
                            "outlinewidth": 0,
                            "ticks": ""
                          }
                        },
                        "type": "scatter3d"
                      }
                    ],
                    "scattercarpet": [
                      {
                        "marker": {
                          "colorbar": {
                            "outlinewidth": 0,
                            "ticks": ""
                          }
                        },
                        "type": "scattercarpet"
                      }
                    ],
                    "scattergeo": [
                      {
                        "marker": {
                          "colorbar": {
                            "outlinewidth": 0,
                            "ticks": ""
                          }
                        },
                        "type": "scattergeo"
                      }
                    ],
                    "scattergl": [
                      {
                        "marker": {
                          "colorbar": {
                            "outlinewidth": 0,
                            "ticks": ""
                          }
                        },
                        "type": "scattergl"
                      }
                    ],
                    "scattermapbox": [
                      {
                        "marker": {
                          "colorbar": {
                            "outlinewidth": 0,
                            "ticks": ""
                          }
                        },
                        "type": "scattermapbox"
                      }
                    ],
                    "scatterpolar": [
                      {
                        "marker": {
                          "colorbar": {
                            "outlinewidth": 0,
                            "ticks": ""
                          }
                        },
                        "type": "scatterpolar"
                      }
                    ],
                    "scatterpolargl": [
                      {
                        "marker": {
                          "colorbar": {
                            "outlinewidth": 0,
                            "ticks": ""
                          }
                        },
                        "type": "scatterpolargl"
                      }
                    ],
                    "scatterternary": [
                      {
                        "marker": {
                          "colorbar": {
                            "outlinewidth": 0,
                            "ticks": ""
                          }
                        },
                        "type": "scatterternary"
                      }
                    ],
                    "surface": [
                      {
                        "colorbar": {
                          "outlinewidth": 0,
                          "ticks": ""
                        },
                        "colorscale": [
                          [
                            0,
                            "#0d0887"
                          ],
                          [
                            0.1111111111111111,
                            "#46039f"
                          ],
                          [
                            0.2222222222222222,
                            "#7201a8"
                          ],
                          [
                            0.3333333333333333,
                            "#9c179e"
                          ],
                          [
                            0.4444444444444444,
                            "#bd3786"
                          ],
                          [
                            0.5555555555555556,
                            "#d8576b"
                          ],
                          [
                            0.6666666666666666,
                            "#ed7953"
                          ],
                          [
                            0.7777777777777778,
                            "#fb9f3a"
                          ],
                          [
                            0.8888888888888888,
                            "#fdca26"
                          ],
                          [
                            1,
                            "#f0f921"
                          ]
                        ],
                        "type": "surface"
                      }
                    ],
                    "table": [
                      {
                        "cells": {
                          "fill": {
                            "color": "#EBF0F8"
                          },
                          "line": {
                            "color": "white"
                          }
                        },
                        "header": {
                          "fill": {
                            "color": "#C8D4E3"
                          },
                          "line": {
                            "color": "white"
                          }
                        },
                        "type": "table"
                      }
                    ]
                  },
                  "layout": {
                    "annotationdefaults": {
                      "arrowcolor": "#2a3f5f",
                      "arrowhead": 0,
                      "arrowwidth": 1
                    },
                    "autotypenumbers": "strict",
                    "coloraxis": {
                      "colorbar": {
                        "outlinewidth": 0,
                        "ticks": ""
                      }
                    },
                    "colorscale": {
                      "diverging": [
                        [
                          0,
                          "#8e0152"
                        ],
                        [
                          0.1,
                          "#c51b7d"
                        ],
                        [
                          0.2,
                          "#de77ae"
                        ],
                        [
                          0.3,
                          "#f1b6da"
                        ],
                        [
                          0.4,
                          "#fde0ef"
                        ],
                        [
                          0.5,
                          "#f7f7f7"
                        ],
                        [
                          0.6,
                          "#e6f5d0"
                        ],
                        [
                          0.7,
                          "#b8e186"
                        ],
                        [
                          0.8,
                          "#7fbc41"
                        ],
                        [
                          0.9,
                          "#4d9221"
                        ],
                        [
                          1,
                          "#276419"
                        ]
                      ],
                      "sequential": [
                        [
                          0,
                          "#0d0887"
                        ],
                        [
                          0.1111111111111111,
                          "#46039f"
                        ],
                        [
                          0.2222222222222222,
                          "#7201a8"
                        ],
                        [
                          0.3333333333333333,
                          "#9c179e"
                        ],
                        [
                          0.4444444444444444,
                          "#bd3786"
                        ],
                        [
                          0.5555555555555556,
                          "#d8576b"
                        ],
                        [
                          0.6666666666666666,
                          "#ed7953"
                        ],
                        [
                          0.7777777777777778,
                          "#fb9f3a"
                        ],
                        [
                          0.8888888888888888,
                          "#fdca26"
                        ],
                        [
                          1,
                          "#f0f921"
                        ]
                      ],
                      "sequentialminus": [
                        [
                          0,
                          "#0d0887"
                        ],
                        [
                          0.1111111111111111,
                          "#46039f"
                        ],
                        [
                          0.2222222222222222,
                          "#7201a8"
                        ],
                        [
                          0.3333333333333333,
                          "#9c179e"
                        ],
                        [
                          0.4444444444444444,
                          "#bd3786"
                        ],
                        [
                          0.5555555555555556,
                          "#d8576b"
                        ],
                        [
                          0.6666666666666666,
                          "#ed7953"
                        ],
                        [
                          0.7777777777777778,
                          "#fb9f3a"
                        ],
                        [
                          0.8888888888888888,
                          "#fdca26"
                        ],
                        [
                          1,
                          "#f0f921"
                        ]
                      ]
                    },
                    "colorway": [
                      "#636efa",
                      "#EF553B",
                      "#00cc96",
                      "#ab63fa",
                      "#FFA15A",
                      "#19d3f3",
                      "#FF6692",
                      "#B6E880",
                      "#FF97FF",
                      "#FECB52"
                    ],
                    "font": {
                      "color": "#2a3f5f"
                    },
                    "geo": {
                      "bgcolor": "white",
                      "lakecolor": "white",
                      "landcolor": "#E5ECF6",
                      "showlakes": true,
                      "showland": true,
                      "subunitcolor": "white"
                    },
                    "hoverlabel": {
                      "align": "left"
                    },
                    "hovermode": "closest",
                    "mapbox": {
                      "style": "light"
                    },
                    "paper_bgcolor": "white",
                    "plot_bgcolor": "#E5ECF6",
                    "polar": {
                      "angularaxis": {
                        "gridcolor": "white",
                        "linecolor": "white",
                        "ticks": ""
                      },
                      "bgcolor": "#E5ECF6",
                      "radialaxis": {
                        "gridcolor": "white",
                        "linecolor": "white",
                        "ticks": ""
                      }
                    },
                    "scene": {
                      "xaxis": {
                        "backgroundcolor": "#E5ECF6",
                        "gridcolor": "white",
                        "gridwidth": 2,
                        "linecolor": "white",
                        "showbackground": true,
                        "ticks": "",
                        "zerolinecolor": "white"
                      },
                      "yaxis": {
                        "backgroundcolor": "#E5ECF6",
                        "gridcolor": "white",
                        "gridwidth": 2,
                        "linecolor": "white",
                        "showbackground": true,
                        "ticks": "",
                        "zerolinecolor": "white"
                      },
                      "zaxis": {
                        "backgroundcolor": "#E5ECF6",
                        "gridcolor": "white",
                        "gridwidth": 2,
                        "linecolor": "white",
                        "showbackground": true,
                        "ticks": "",
                        "zerolinecolor": "white"
                      }
                    },
                    "shapedefaults": {
                      "line": {
                        "color": "#2a3f5f"
                      }
                    },
                    "ternary": {
                      "aaxis": {
                        "gridcolor": "white",
                        "linecolor": "white",
                        "ticks": ""
                      },
                      "baxis": {
                        "gridcolor": "white",
                        "linecolor": "white",
                        "ticks": ""
                      },
                      "bgcolor": "#E5ECF6",
                      "caxis": {
                        "gridcolor": "white",
                        "linecolor": "white",
                        "ticks": ""
                      }
                    },
                    "title": {
                      "x": 0.05
                    },
                    "xaxis": {
                      "automargin": true,
                      "gridcolor": "white",
                      "linecolor": "white",
                      "ticks": "",
                      "title": {
                        "standoff": 15
                      },
                      "zerolinecolor": "white",
                      "zerolinewidth": 2
                    },
                    "yaxis": {
                      "automargin": true,
                      "gridcolor": "white",
                      "linecolor": "white",
                      "ticks": "",
                      "title": {
                        "standoff": 15
                      },
                      "zerolinecolor": "white",
                      "zerolinewidth": 2
                    }
                  }
                },
                "title": {
                  "text": "Minimum Wages in New Jersey and Pennsylvania"
                },
                "xaxis": {
                  "anchor": "y",
                  "domain": [
                    0,
                    1
                  ],
                  "title": {
                    "text": "date"
                  }
                },
                "yaxis": {
                  "anchor": "x",
                  "domain": [
                    0,
                    1
                  ],
                  "title": {
                    "text": "minwage"
                  }
                }
              }
            }
          },
          "metadata": {},
          "output_type": "display_data"
        }
      ],
      "source": [
        "df_s=pd.read_csv('data/wk10/state_data.csv', parse_dates=['date']) # read in the state-level data\n",
        "did=df_s[df_s['state'].isin(['pennsylvania', 'new jersey'])] # subset the data to only include pennsylvania and new jersey\n",
        "\n",
        "px.line(did, x='date', y='minwage', color='state', title=\"Minimum Wages in New Jersey and Pennsylvania\") # plot the minimum wage over time"
      ]
    },
    {
      "cell_type": "markdown",
      "metadata": {
        "id": "mvnAz2enG_yB"
      },
      "source": [
        "The plot above sort of looks like a set of descending staircases; this is for two reasons. The plateaus exist because each row in the dataframe `df_s` is the value of a state in a given *month*, but we only have minimum wage data for every *year*. So we get 12 consecutive values of minimum wage every year. The reason that the staircases are descending is because these minimum wages are adjusted for inflation. No matter where you're from, you've probably heard a grandparent say something along the lines of \"My parents would send me to the shops with 25 cents to buy groceries for the week\", but now it costs £9 for a bag of chips. That's inflation-- every year things tend to get slightly more expensive, so if the same *absolute* minimum wage actually diminishes in \"real\" terms, which is what the variable `minwage` measures. Incidentally, this is one of the main reasons University staff have been on [strike](https://www.ucu.org.uk/article/11830/University-staff-pay-cut-by-20-new-figures-show). Anyway. Back to minimum wages.\n",
        "\n",
        "This plot shows that for the past fifty years, New Jersey and Pennsylvania have had largely similar minimum wage policies. There have been a couple moments of divergence, including in the 1990s when the Card and Krueger study was conducted. However, the biggest divergence actually started taking place in 2014 when New Jersey seems to have begun taking a wildly different approach. While Pennsylvania has had the same minimum wage since 2008 (and therefore seen a decline in inflation-adjusted wages), New Jersey has raised the minimum wage significantly twice. In 2020, New Jersey's minimum wage was around 50% higher than Pennsylvania's. We can exploit the fact that these two states have historically had similar minimum wage laws but have recently experienced a big divergence to see if that change in minimum wages has resulted in a change in employment levels.\n",
        "\n",
        "Our Difference-in-Differences setup is as follows:\n",
        "\n",
        "$$\\large Unemployment_{state, year} = \\beta_0 + \\beta_1 Treatment_{state} + \\beta_2 Post_{year} + \\beta_3 (Treatment_{state} \\times Post_{year}) + \\beta_4 GDP_{state,year} + \\varepsilon_{it}$$\n",
        "\n",
        "* New Jersey is the **treatment group**\n",
        "* Pennsylvania is the **control group**\n",
        "* Years before 2014 is the **pre-treatment period**\n",
        "* Years after 2014 is the **post-treatment period**"
      ]
    },
    {
      "cell_type": "code",
      "execution_count": null,
      "metadata": {
        "id": "KDXwb1CXG_yB"
      },
      "outputs": [],
      "source": [
        "did['post']=np.where(did['date']>='2014-01-01',1,0) # create a variable that is 1 if the date is after the minimum wage increase and 0 otherwise\n",
        "did['treatment']=np.where(did['state']=='new jersey',1,0) # create a variable that is 1 if the state is new jersey (i.e., the treatment group) and 0 for pennsylvania (the control group)\n",
        "did['post_treatment']=did['post']*did['treatment'] # create a variable that is 1 if the date is after the minimum wage increase and the state is new jersey and 0 otherwise"
      ]
    },
    {
      "cell_type": "markdown",
      "metadata": {
        "id": "Y3DcZp06G_yC"
      },
      "source": [
        "Before we proceed with the analysis, though, we need to satisfy two assumptions that will allow us to argue that Pennsylvania can act as a valid control group for New Jersey:\n",
        "\n",
        "1. No simultaneous treatments:\n",
        "    * If, for example, New Jersey suddenly entered a massive recession in 2014 as well, we couldn't really argue that resulting effects on employment are due solely to the minimum wage law. To account for this, we'll be including state-level GDP as an additional independent variable in our DiD model.\n",
        "2. Parallel Trends:\n",
        "    * Both states have to have been experiencing similar trends in the **dependent variable** (unemployment) prior to the treatment (minimum wage law). If they were trending in opposite directions for unobserved reasons, ensuing differences in unemployment may be due to those unobserved reasons rather than the treatment.\n",
        "    * We can check this by plotting the dependent variable for both groups over time, and indicating the timing of the treatment."
      ]
    },
    {
      "cell_type": "code",
      "execution_count": null,
      "metadata": {
        "id": "A2jPR8ZuG_yC",
        "outputId": "4f2b5c40-b82b-4b60-8e2f-c84a71ea62a2"
      },
      "outputs": [
        {
          "data": {
            "text/plain": [
              "<matplotlib.legend.Legend at 0x29f42dd60>"
            ]
          },
          "execution_count": 31,
          "metadata": {},
          "output_type": "execute_result"
        },
        {
          "data": {
            "image/png": "[encoded data removed]",
            "text/plain": [
              "<Figure size 864x576 with 1 Axes>"
            ]
          },
          "metadata": {},
          "output_type": "display_data"
        }
      ],
      "source": [
        "did=did[(did['date']>='2008-01-01') & (did['date']<='2020-01-01')]\n",
        "sns.lineplot(data=did,x='date',y='unemployment',hue='state')\n",
        "plt.axvline(pd.to_datetime('2014-01-01'),color='black',linestyle='dashed', label='NJ Minimum Wage Increase')\n",
        "plt.title('Unemployment in Pennsylvania and New Jersey')\n",
        "plt.legend()"
      ]
    },
    {
      "cell_type": "markdown",
      "metadata": {
        "id": "GazMxoo_G_yC"
      },
      "source": [
        "This plot shows a big spike in unemployment occurring for both Pennsylvania and New Jersey as a result of the 2008 financial crisis. New jersey had a higher unemployment rate than Pennsylvania, but their trends are largely parallel and decreasing after 2012. In the years following the minimum wage law, New Jersey's unemployment rate actually dips below Pennsylvania's for the first time in years. Let's look at this in the form of boxplots:"
      ]
    },
    {
      "cell_type": "code",
      "execution_count": null,
      "metadata": {
        "id": "bRfEIieJG_yD",
        "outputId": "4445d6fd-0731-430c-9275-54ee6dcb9363"
      },
      "outputs": [
        {
          "data": {
            "image/png": "[encoded data removed]",
            "text/plain": [
              "<Figure size 864x576 with 1 Axes>"
            ]
          },
          "metadata": {},
          "output_type": "display_data"
        }
      ],
      "source": [
        "did['category']=did['treatment'].astype(str)+did['post'].astype(str) # this variable is just for the plot below\n",
        "sns.boxplot(x='category', y='unemployment', hue='treatment', data=did).set_xticklabels([\"Pre x Treatment\", \"Pre x Control\",'Post x Treatment','Post x Control'])\n",
        "plt.xlabel('')\n",
        "plt.title('Unemployment Rates by Treatment and Post Treatment')\n",
        "plt.show()"
      ]
    },
    {
      "cell_type": "markdown",
      "metadata": {
        "id": "RdPORcYHG_yD"
      },
      "source": [
        "This plot is fascinating in and of itself. The two box plots on the left show the unemployment values of the counties prior to the minimum wage law in 2014, while the two on the right show their values after the minimum wage increases.  Pennsylvania (the \"control\" group) is colored in blue, and New Jersey (the \"treatment\" group) is colored orange. Prior to the minimum wage increase in 2014, Pennsylvania (blue) has a lower unemployment rate than New Jersey (orange). In the years following New Jersey's passage of the minimum wage law, New Jersey actually has a *lower* unemployment rate than Pennsylvania! This is the only boxplot where the \"treatment\" (a minimum wage law) is being applied, and it has the lowest unemployment rate.\n",
        "\n",
        "Let's see if this difference is statistically signfiicant, and calculate a treatment effect:"
      ]
    },
    {
      "cell_type": "code",
      "execution_count": null,
      "metadata": {
        "id": "IyTByJ-YG_yE",
        "outputId": "259342f8-17fa-4933-b1b2-175b7ed5f68f"
      },
      "outputs": [
        {
          "name": "stdout",
          "output_type": "stream",
          "text": [
            "                            OLS Regression Results                            \n",
            "==============================================================================\n",
            "Dep. Variable:           unemployment   R-squared:                       0.659\n",
            "Model:                            OLS   Adj. R-squared:                  0.655\n",
            "Method:                 Least Squares   F-statistic:                     184.3\n",
            "Date:                Fri, 01 Dec 2023   Prob (F-statistic):           1.66e-66\n",
            "Time:                        12:35:29   Log-Likelihood:                -440.98\n",
            "No. Observations:                 290   AIC:                             890.0\n",
            "Df Residuals:                     286   BIC:                             904.6\n",
            "Df Model:                           3                                         \n",
            "Covariance Type:            nonrobust                                         \n",
            "==================================================================================\n",
            "                     coef    std err          t      P>|t|      [0.025      0.975]\n",
            "----------------------------------------------------------------------------------\n",
            "Intercept          7.3319      0.131     55.810      0.000       7.073       7.591\n",
            "post              -2.2443      0.185    -12.121      0.000      -2.609      -1.880\n",
            "treatment          1.1972      0.186      6.444      0.000       0.832       1.563\n",
            "post_treatment    -1.4232      0.262     -5.435      0.000      -1.939      -0.908\n",
            "==============================================================================\n",
            "Omnibus:                       54.329   Durbin-Watson:                   0.316\n",
            "Prob(Omnibus):                  0.000   Jarque-Bera (JB):               89.043\n",
            "Skew:                          -1.068   Prob(JB):                     4.62e-20\n",
            "Kurtosis:                       4.675   Cond. No.                         6.88\n",
            "==============================================================================\n",
            "\n",
            "Notes:\n",
            "[1] Standard Errors assume that the covariance matrix of the errors is correctly specified.\n"
          ]
        }
      ],
      "source": [
        "did_model = ols('unemployment ~  post + treatment + post_treatment', did).fit()\n",
        "print(did_model.summary())"
      ]
    },
    {
      "cell_type": "markdown",
      "metadata": {
        "id": "KG_6IEOUG_yE"
      },
      "source": [
        "There are some really interesting results from this model-- let's interpret the coefficients one by one.\n",
        "\n",
        "* `gdp`: GDP is inversely related to unemployment. This makes sense: GDP basically measures the total amount of economic activity, so more economic activity = more employment.\n",
        "* `post`: this coefficient is negative, but statistically insignificant at the 0.05 level; it indicates that unemployment *generally* decreased for both groups, but that this could be due to random chance.\n",
        "* `treatment`: again negative but insignficant, meaning that there is no significant difference in unemployment levels between NJ and PA over the entire period.\n",
        "* `post_treatment`: this is our difference-in-differences estimator, and reflects the causal effect of treatment. It is negative and statistically significant. If we believe that the asusmptions of our model are satisfied, we can claim that:\n",
        "    * **The introduction of a minimum wage in New Jersey led to a 1.95% decrease in unemployment relative to Pennsylvania**\n",
        "\n",
        "This is a bold claim. We should do our best to back it up. Notice that i've sort of arbitrarily chosen a window of dates around the minimum wage law-- maybe this result is a fluke, due to the timespan ive chosen.\n",
        "\n",
        "To address this concern, I'll run the same model 10 times, starting with a really small time window-- just one year on either side of the law-- and progressively expand it."
      ]
    },
    {
      "cell_type": "code",
      "execution_count": null,
      "metadata": {
        "id": "IFvzwBuZG_yF",
        "outputId": "77ef6460-95e2-4bd3-fa34-dd5f4e1806d0"
      },
      "outputs": [
        {
          "name": "stdout",
          "output_type": "stream",
          "text": [
            "\n",
            "=======================================================================================================\n",
            "               ± 1 Year  ± 2 Year  ± 3 Year  ± 4 Year  ± 5 Year  ± 6 Year  ± 7 Year  ± 8 Year  ± 9 Year\n",
            "-------------------------------------------------------------------------------------------------------\n",
            "Intercept      21.423** 33.130*** 24.228*** 22.751*** 19.711*** 15.651*** 2.327     -0.580    -2.340*  \n",
            "               (9.399)  (2.324)   (1.333)   (0.876)   (0.746)   (1.277)   (2.183)   (1.579)   (1.398)  \n",
            "gdp            -0.000   -0.000*** -0.000*** -0.000*** -0.000*** -0.000*** 0.000**   0.000***  0.000*** \n",
            "               (0.000)  (0.000)   (0.000)   (0.000)   (0.000)   (0.000)   (0.000)   (0.000)   (0.000)  \n",
            "post           -0.619   0.100     -0.262    -0.256*   -0.483*** -0.585*   -2.277*** -2.792*** -3.205***\n",
            "               (0.411)  (0.194)   (0.162)   (0.140)   (0.154)   (0.307)   (0.576)   (0.501)   (0.479)  \n",
            "treatment      -1.604   -3.686*** -1.850*** -1.466*** -0.903*** -0.364    1.825***  2.139***  2.241*** \n",
            "               (1.896)  (0.479)   (0.285)   (0.190)   (0.169)   (0.295)   (0.509)   (0.402)   (0.363)  \n",
            "post_treatment -0.837** -1.707*** -1.848*** -2.108*** -2.111*** -1.953*** -0.780*   -0.375    -0.030   \n",
            "               (0.323)  (0.158)   (0.134)   (0.115)   (0.130)   (0.258)   (0.469)   (0.426)   (0.409)  \n",
            "R-squared      0.856    0.934     0.938     0.952     0.933     0.704     0.194     0.167     0.165    \n",
            "R-squared Adj. 0.844    0.931     0.936     0.951     0.932     0.699     0.184     0.158     0.157    \n",
            "N              50       98        146       194       242       290       338       384       408      \n",
            "=======================================================================================================\n",
            "Standard errors in parentheses.\n",
            "* p<.1, ** p<.05, ***p<.01\n"
          ]
        }
      ],
      "source": [
        "models=[] # create empty list to store the models\n",
        "names=[] # create empty list to store the names of the models\n",
        "\n",
        "for window in range(1,10): # loop through years from 2000 to 2020 in increments of 4\n",
        "    did=df_s[(df_s['date']>=str(2014-window)+'-01-01') & (df_s['date']<=str(2014+window)+'-01-01') & df_s['state'].isin(['pennsylvania', 'new jersey'])] # subset the data within the window of interest around 2014\n",
        "    did['post']=np.where(did['date']>='2014-01-01',1,0) # create a dummy variable indicating the period after the minimum wage increase\n",
        "    did['treatment']=np.where(did['state']=='new jersey',1,0) # create a dummy variable for treatment\n",
        "    did['post_treatment']=did['post']*did['treatment'] # create an interaction term between the post and treatment variables\n",
        "    did_model = ols('unemployment ~ gdp+ post + treatment + post_treatment', did).fit() # run the difference in difference model\n",
        "\n",
        "    models.append(did_model) # append the model to the list of models\n",
        "    names.append('± '+str(window)+' Year') # append the name of the model to the list of names\n",
        "\n",
        "table=summary_col( # create a regression table\n",
        "    models, # pass the models to the summary_col function\n",
        "    stars=True, # add stars denoting the p-values of the coefficient to the table; * p<0.05, ** p<0.01, *** p<0.001\n",
        "    float_format='%0.3f', # set the decimal places to 3\n",
        "    model_names=names, # set the names of the model\n",
        "    info_dict = {\"N\":lambda x: \"{0:d}\".format(int(x.nobs))}) # add the number of observations to the table\n",
        "\n",
        "print(table) # print the table\n"
      ]
    },
    {
      "cell_type": "markdown",
      "metadata": {
        "id": "Sp1n2IRqG_yF"
      },
      "source": [
        "The row we're mainly interested in is the `post_treatment` coefficient, the treatment effect. It remains significant and negative in all time periods smaller than 8 years, after which point it becomes insignificant;\n",
        "\n",
        "How do you think this affects our conclusion?\n",
        "\n",
        "# Assessed Question\n",
        "\n",
        "Now we've got evidence that minimum wage laws may actually *decrease* unemployment in the case of New Jersey and Pennsylvania. But we've got quite a bit of data, and minimum wages change frequently. Let's find another example where we may be able to run a difference in differences regression to see if this trend holds in a different context.\n",
        "\n",
        "Below, I've picked out Kansas and Ohio; they had nearly the exact same minimum wage for seven years, but in 2007 Ohio nearly tripled its minimum wage while kansas kept it the same."
      ]
    },
    {
      "cell_type": "code",
      "execution_count": null,
      "metadata": {
        "id": "yEl6PB3OG_yG",
        "outputId": "28a337c0-bbf6-4d14-af19-84e22f508420"
      },
      "outputs": [
        {
          "data": {
            "application/vnd.plotly.v1+json": {
              "config": {
                "plotlyServerURL": "https://plotly.com"
              },
              "data": [
                {
                  "hovertemplate": "state=kansas<br>date=%{x}<br>minwage=%{y}<extra></extra>",
                  "legendgroup": "kansas",
                  "line": {
                    "color": "#636efa",
                    "dash": "solid"
                  },
                  "marker": {
                    "symbol": "circle"
                  },
                  "mode": "lines",
                  "name": "kansas",
                  "orientation": "v",
                  "showlegend": true,
                  "type": "scatter",
                  "x": [
                    "2000-01-01T00:00:00",
                    "2000-02-01T00:00:00",
                    "2000-03-01T00:00:00",
                    "2000-04-01T00:00:00",
                    "2000-05-01T00:00:00",
                    "2000-06-01T00:00:00",
                    "2000-07-01T00:00:00",
                    "2000-08-01T00:00:00",
                    "2000-09-01T00:00:00",
                    "2000-10-01T00:00:00",
                    "2000-11-01T00:00:00",
                    "2000-12-01T00:00:00",
                    "2001-01-01T00:00:00",
                    "2001-02-01T00:00:00",
                    "2001-03-01T00:00:00",
                    "2001-04-01T00:00:00",
                    "2001-05-01T00:00:00",
                    "2001-06-01T00:00:00",
                    "2001-07-01T00:00:00",
                    "2001-08-01T00:00:00",
                    "2001-09-01T00:00:00",
                    "2001-10-01T00:00:00",
                    "2001-11-01T00:00:00",
                    "2001-12-01T00:00:00",
                    "2002-01-01T00:00:00",
                    "2002-02-01T00:00:00",
                    "2002-03-01T00:00:00",
                    "2002-04-01T00:00:00",
                    "2002-05-01T00:00:00",
                    "2002-06-01T00:00:00",
                    "2002-07-01T00:00:00",
                    "2002-08-01T00:00:00",
                    "2002-09-01T00:00:00",
                    "2002-10-01T00:00:00",
                    "2002-11-01T00:00:00",
                    "2002-12-01T00:00:00",
                    "2003-01-01T00:00:00",
                    "2003-02-01T00:00:00",
                    "2003-03-01T00:00:00",
                    "2003-04-01T00:00:00",
                    "2003-05-01T00:00:00",
                    "2003-06-01T00:00:00",
                    "2003-07-01T00:00:00",
                    "2003-08-01T00:00:00",
                    "2003-09-01T00:00:00",
                    "2003-10-01T00:00:00",
                    "2003-11-01T00:00:00",
                    "2003-12-01T00:00:00",
                    "2004-01-01T00:00:00",
                    "2004-02-01T00:00:00",
                    "2004-03-01T00:00:00",
                    "2004-04-01T00:00:00",
                    "2004-05-01T00:00:00",
                    "2004-06-01T00:00:00",
                    "2004-07-01T00:00:00",
                    "2004-08-01T00:00:00",
                    "2004-09-01T00:00:00",
                    "2004-10-01T00:00:00",
                    "2004-11-01T00:00:00",
                    "2004-12-01T00:00:00",
                    "2005-01-01T00:00:00",
                    "2005-02-01T00:00:00",
                    "2005-03-01T00:00:00",
                    "2005-04-01T00:00:00",
                    "2005-05-01T00:00:00",
                    "2005-06-01T00:00:00",
                    "2005-07-01T00:00:00",
                    "2005-08-01T00:00:00",
                    "2005-09-01T00:00:00",
                    "2005-10-01T00:00:00",
                    "2005-11-01T00:00:00",
                    "2005-12-01T00:00:00",
                    "2006-01-01T00:00:00",
                    "2006-02-01T00:00:00",
                    "2006-03-01T00:00:00",
                    "2006-04-01T00:00:00",
                    "2006-05-01T00:00:00",
                    "2006-06-01T00:00:00",
                    "2006-07-01T00:00:00",
                    "2006-08-01T00:00:00",
                    "2006-09-01T00:00:00",
                    "2006-10-01T00:00:00",
                    "2006-11-01T00:00:00",
                    "2006-12-01T00:00:00",
                    "2007-01-01T00:00:00",
                    "2007-02-01T00:00:00",
                    "2007-03-01T00:00:00",
                    "2007-04-01T00:00:00",
                    "2007-05-01T00:00:00",
                    "2007-06-01T00:00:00",
                    "2007-07-01T00:00:00",
                    "2007-08-01T00:00:00",
                    "2007-09-01T00:00:00",
                    "2007-10-01T00:00:00",
                    "2007-11-01T00:00:00",
                    "2007-12-01T00:00:00",
                    "2008-01-01T00:00:00",
                    "2008-02-01T00:00:00",
                    "2008-03-01T00:00:00",
                    "2008-04-01T00:00:00",
                    "2008-05-01T00:00:00",
                    "2008-06-01T00:00:00",
                    "2008-07-01T00:00:00",
                    "2008-08-01T00:00:00",
                    "2008-09-01T00:00:00",
                    "2008-10-01T00:00:00",
                    "2008-11-01T00:00:00",
                    "2008-12-01T00:00:00",
                    "2009-01-01T00:00:00",
                    "2009-02-01T00:00:00",
                    "2009-03-01T00:00:00",
                    "2009-04-01T00:00:00",
                    "2009-05-01T00:00:00",
                    "2009-06-01T00:00:00",
                    "2009-07-01T00:00:00",
                    "2009-08-01T00:00:00",
                    "2009-09-01T00:00:00",
                    "2009-10-01T00:00:00",
                    "2009-11-01T00:00:00",
                    "2009-12-01T00:00:00"
                  ],
                  "xaxis": "x",
                  "y": [
                    3.98,
                    3.98,
                    3.98,
                    3.98,
                    3.98,
                    3.98,
                    3.98,
                    3.98,
                    3.98,
                    3.98,
                    3.98,
                    3.98,
                    3.87,
                    3.87,
                    3.87,
                    3.87,
                    3.87,
                    3.87,
                    3.87,
                    3.87,
                    3.87,
                    3.87,
                    3.87,
                    3.87,
                    3.81,
                    3.81,
                    3.81,
                    3.81,
                    3.81,
                    3.81,
                    3.81,
                    3.81,
                    3.81,
                    3.81,
                    3.81,
                    3.81,
                    3.73,
                    3.73,
                    3.73,
                    3.73,
                    3.73,
                    3.73,
                    3.73,
                    3.73,
                    3.73,
                    3.73,
                    3.73,
                    3.73,
                    3.63,
                    3.63,
                    3.63,
                    3.63,
                    3.63,
                    3.63,
                    3.63,
                    3.63,
                    3.63,
                    3.63,
                    3.63,
                    3.63,
                    3.51,
                    3.51,
                    3.51,
                    3.51,
                    3.51,
                    3.51,
                    3.51,
                    3.51,
                    3.51,
                    3.51,
                    3.51,
                    3.51,
                    3.4,
                    3.4,
                    3.4,
                    3.4,
                    3.4,
                    3.4,
                    3.4,
                    3.4,
                    3.4,
                    3.4,
                    3.4,
                    3.4,
                    3.31,
                    3.31,
                    3.31,
                    3.31,
                    3.31,
                    3.31,
                    3.31,
                    3.31,
                    3.31,
                    3.31,
                    3.31,
                    3.31,
                    3.18,
                    3.18,
                    3.18,
                    3.18,
                    3.18,
                    3.18,
                    3.18,
                    3.18,
                    3.18,
                    3.18,
                    3.18,
                    3.18,
                    3.2,
                    3.2,
                    3.2,
                    3.2,
                    3.2,
                    3.2,
                    3.2,
                    3.2,
                    3.2,
                    3.2,
                    3.2,
                    3.2
                  ],
                  "yaxis": "y"
                },
                {
                  "hovertemplate": "state=ohio<br>date=%{x}<br>minwage=%{y}<extra></extra>",
                  "legendgroup": "ohio",
                  "line": {
                    "color": "#EF553B",
                    "dash": "solid"
                  },
                  "marker": {
                    "symbol": "circle"
                  },
                  "mode": "lines",
                  "name": "ohio",
                  "orientation": "v",
                  "showlegend": true,
                  "type": "scatter",
                  "x": [
                    "2000-01-01T00:00:00",
                    "2000-02-01T00:00:00",
                    "2000-03-01T00:00:00",
                    "2000-04-01T00:00:00",
                    "2000-05-01T00:00:00",
                    "2000-06-01T00:00:00",
                    "2000-07-01T00:00:00",
                    "2000-08-01T00:00:00",
                    "2000-09-01T00:00:00",
                    "2000-10-01T00:00:00",
                    "2000-11-01T00:00:00",
                    "2000-12-01T00:00:00",
                    "2001-01-01T00:00:00",
                    "2001-02-01T00:00:00",
                    "2001-03-01T00:00:00",
                    "2001-04-01T00:00:00",
                    "2001-05-01T00:00:00",
                    "2001-06-01T00:00:00",
                    "2001-07-01T00:00:00",
                    "2001-08-01T00:00:00",
                    "2001-09-01T00:00:00",
                    "2001-10-01T00:00:00",
                    "2001-11-01T00:00:00",
                    "2001-12-01T00:00:00",
                    "2002-01-01T00:00:00",
                    "2002-02-01T00:00:00",
                    "2002-03-01T00:00:00",
                    "2002-04-01T00:00:00",
                    "2002-05-01T00:00:00",
                    "2002-06-01T00:00:00",
                    "2002-07-01T00:00:00",
                    "2002-08-01T00:00:00",
                    "2002-09-01T00:00:00",
                    "2002-10-01T00:00:00",
                    "2002-11-01T00:00:00",
                    "2002-12-01T00:00:00",
                    "2003-01-01T00:00:00",
                    "2003-02-01T00:00:00",
                    "2003-03-01T00:00:00",
                    "2003-04-01T00:00:00",
                    "2003-05-01T00:00:00",
                    "2003-06-01T00:00:00",
                    "2003-07-01T00:00:00",
                    "2003-08-01T00:00:00",
                    "2003-09-01T00:00:00",
                    "2003-10-01T00:00:00",
                    "2003-11-01T00:00:00",
                    "2003-12-01T00:00:00",
                    "2004-01-01T00:00:00",
                    "2004-02-01T00:00:00",
                    "2004-03-01T00:00:00",
                    "2004-04-01T00:00:00",
                    "2004-05-01T00:00:00",
                    "2004-06-01T00:00:00",
                    "2004-07-01T00:00:00",
                    "2004-08-01T00:00:00",
                    "2004-09-01T00:00:00",
                    "2004-10-01T00:00:00",
                    "2004-11-01T00:00:00",
                    "2004-12-01T00:00:00",
                    "2005-01-01T00:00:00",
                    "2005-02-01T00:00:00",
                    "2005-03-01T00:00:00",
                    "2005-04-01T00:00:00",
                    "2005-05-01T00:00:00",
                    "2005-06-01T00:00:00",
                    "2005-07-01T00:00:00",
                    "2005-08-01T00:00:00",
                    "2005-09-01T00:00:00",
                    "2005-10-01T00:00:00",
                    "2005-11-01T00:00:00",
                    "2005-12-01T00:00:00",
                    "2006-01-01T00:00:00",
                    "2006-02-01T00:00:00",
                    "2006-03-01T00:00:00",
                    "2006-04-01T00:00:00",
                    "2006-05-01T00:00:00",
                    "2006-06-01T00:00:00",
                    "2006-07-01T00:00:00",
                    "2006-08-01T00:00:00",
                    "2006-09-01T00:00:00",
                    "2006-10-01T00:00:00",
                    "2006-11-01T00:00:00",
                    "2006-12-01T00:00:00",
                    "2007-01-01T00:00:00",
                    "2007-02-01T00:00:00",
                    "2007-03-01T00:00:00",
                    "2007-04-01T00:00:00",
                    "2007-05-01T00:00:00",
                    "2007-06-01T00:00:00",
                    "2007-07-01T00:00:00",
                    "2007-08-01T00:00:00",
                    "2007-09-01T00:00:00",
                    "2007-10-01T00:00:00",
                    "2007-11-01T00:00:00",
                    "2007-12-01T00:00:00",
                    "2008-01-01T00:00:00",
                    "2008-02-01T00:00:00",
                    "2008-03-01T00:00:00",
                    "2008-04-01T00:00:00",
                    "2008-05-01T00:00:00",
                    "2008-06-01T00:00:00",
                    "2008-07-01T00:00:00",
                    "2008-08-01T00:00:00",
                    "2008-09-01T00:00:00",
                    "2008-10-01T00:00:00",
                    "2008-11-01T00:00:00",
                    "2008-12-01T00:00:00",
                    "2009-01-01T00:00:00",
                    "2009-02-01T00:00:00",
                    "2009-03-01T00:00:00",
                    "2009-04-01T00:00:00",
                    "2009-05-01T00:00:00",
                    "2009-06-01T00:00:00",
                    "2009-07-01T00:00:00",
                    "2009-08-01T00:00:00",
                    "2009-09-01T00:00:00",
                    "2009-10-01T00:00:00",
                    "2009-11-01T00:00:00",
                    "2009-12-01T00:00:00"
                  ],
                  "xaxis": "x",
                  "y": [
                    4.21,
                    4.21,
                    4.21,
                    4.21,
                    4.21,
                    4.21,
                    4.21,
                    4.21,
                    4.21,
                    4.21,
                    4.21,
                    4.21,
                    4.09,
                    4.09,
                    4.09,
                    4.09,
                    4.09,
                    4.09,
                    4.09,
                    4.09,
                    4.09,
                    4.09,
                    4.09,
                    4.09,
                    4.03,
                    4.03,
                    4.03,
                    4.03,
                    4.03,
                    4.03,
                    4.03,
                    4.03,
                    4.03,
                    4.03,
                    4.03,
                    4.03,
                    3.94,
                    3.94,
                    3.94,
                    3.94,
                    3.94,
                    3.94,
                    3.94,
                    3.94,
                    3.94,
                    3.94,
                    3.94,
                    3.94,
                    3.83,
                    3.83,
                    3.83,
                    3.83,
                    3.83,
                    3.83,
                    3.83,
                    3.83,
                    3.83,
                    3.83,
                    3.83,
                    3.83,
                    3.71,
                    3.71,
                    3.71,
                    3.71,
                    3.71,
                    3.71,
                    3.71,
                    3.71,
                    3.71,
                    3.71,
                    3.71,
                    3.71,
                    3.59,
                    3.59,
                    3.59,
                    3.59,
                    3.59,
                    3.59,
                    3.59,
                    3.59,
                    3.59,
                    3.59,
                    3.59,
                    3.59,
                    8.55,
                    8.55,
                    8.55,
                    8.55,
                    8.55,
                    8.55,
                    8.55,
                    8.55,
                    8.55,
                    8.55,
                    8.55,
                    8.55,
                    8.41,
                    8.41,
                    8.41,
                    8.41,
                    8.41,
                    8.41,
                    8.41,
                    8.41,
                    8.41,
                    8.41,
                    8.41,
                    8.41,
                    8.8,
                    8.8,
                    8.8,
                    8.8,
                    8.8,
                    8.8,
                    8.8,
                    8.8,
                    8.8,
                    8.8,
                    8.8,
                    8.8
                  ],
                  "yaxis": "y"
                }
              ],
              "layout": {
                "legend": {
                  "title": {
                    "text": "state"
                  },
                  "tracegroupgap": 0
                },
                "template": {
                  "data": {
                    "bar": [
                      {
                        "error_x": {
                          "color": "#2a3f5f"
                        },
                        "error_y": {
                          "color": "#2a3f5f"
                        },
                        "marker": {
                          "line": {
                            "color": "#E5ECF6",
                            "width": 0.5
                          },
                          "pattern": {
                            "fillmode": "overlay",
                            "size": 10,
                            "solidity": 0.2
                          }
                        },
                        "type": "bar"
                      }
                    ],
                    "barpolar": [
                      {
                        "marker": {
                          "line": {
                            "color": "#E5ECF6",
                            "width": 0.5
                          },
                          "pattern": {
                            "fillmode": "overlay",
                            "size": 10,
                            "solidity": 0.2
                          }
                        },
                        "type": "barpolar"
                      }
                    ],
                    "carpet": [
                      {
                        "aaxis": {
                          "endlinecolor": "#2a3f5f",
                          "gridcolor": "white",
                          "linecolor": "white",
                          "minorgridcolor": "white",
                          "startlinecolor": "#2a3f5f"
                        },
                        "baxis": {
                          "endlinecolor": "#2a3f5f",
                          "gridcolor": "white",
                          "linecolor": "white",
                          "minorgridcolor": "white",
                          "startlinecolor": "#2a3f5f"
                        },
                        "type": "carpet"
                      }
                    ],
                    "choropleth": [
                      {
                        "colorbar": {
                          "outlinewidth": 0,
                          "ticks": ""
                        },
                        "type": "choropleth"
                      }
                    ],
                    "contour": [
                      {
                        "colorbar": {
                          "outlinewidth": 0,
                          "ticks": ""
                        },
                        "colorscale": [
                          [
                            0,
                            "#0d0887"
                          ],
                          [
                            0.1111111111111111,
                            "#46039f"
                          ],
                          [
                            0.2222222222222222,
                            "#7201a8"
                          ],
                          [
                            0.3333333333333333,
                            "#9c179e"
                          ],
                          [
                            0.4444444444444444,
                            "#bd3786"
                          ],
                          [
                            0.5555555555555556,
                            "#d8576b"
                          ],
                          [
                            0.6666666666666666,
                            "#ed7953"
                          ],
                          [
                            0.7777777777777778,
                            "#fb9f3a"
                          ],
                          [
                            0.8888888888888888,
                            "#fdca26"
                          ],
                          [
                            1,
                            "#f0f921"
                          ]
                        ],
                        "type": "contour"
                      }
                    ],
                    "contourcarpet": [
                      {
                        "colorbar": {
                          "outlinewidth": 0,
                          "ticks": ""
                        },
                        "type": "contourcarpet"
                      }
                    ],
                    "heatmap": [
                      {
                        "colorbar": {
                          "outlinewidth": 0,
                          "ticks": ""
                        },
                        "colorscale": [
                          [
                            0,
                            "#0d0887"
                          ],
                          [
                            0.1111111111111111,
                            "#46039f"
                          ],
                          [
                            0.2222222222222222,
                            "#7201a8"
                          ],
                          [
                            0.3333333333333333,
                            "#9c179e"
                          ],
                          [
                            0.4444444444444444,
                            "#bd3786"
                          ],
                          [
                            0.5555555555555556,
                            "#d8576b"
                          ],
                          [
                            0.6666666666666666,
                            "#ed7953"
                          ],
                          [
                            0.7777777777777778,
                            "#fb9f3a"
                          ],
                          [
                            0.8888888888888888,
                            "#fdca26"
                          ],
                          [
                            1,
                            "#f0f921"
                          ]
                        ],
                        "type": "heatmap"
                      }
                    ],
                    "heatmapgl": [
                      {
                        "colorbar": {
                          "outlinewidth": 0,
                          "ticks": ""
                        },
                        "colorscale": [
                          [
                            0,
                            "#0d0887"
                          ],
                          [
                            0.1111111111111111,
                            "#46039f"
                          ],
                          [
                            0.2222222222222222,
                            "#7201a8"
                          ],
                          [
                            0.3333333333333333,
                            "#9c179e"
                          ],
                          [
                            0.4444444444444444,
                            "#bd3786"
                          ],
                          [
                            0.5555555555555556,
                            "#d8576b"
                          ],
                          [
                            0.6666666666666666,
                            "#ed7953"
                          ],
                          [
                            0.7777777777777778,
                            "#fb9f3a"
                          ],
                          [
                            0.8888888888888888,
                            "#fdca26"
                          ],
                          [
                            1,
                            "#f0f921"
                          ]
                        ],
                        "type": "heatmapgl"
                      }
                    ],
                    "histogram": [
                      {
                        "marker": {
                          "pattern": {
                            "fillmode": "overlay",
                            "size": 10,
                            "solidity": 0.2
                          }
                        },
                        "type": "histogram"
                      }
                    ],
                    "histogram2d": [
                      {
                        "colorbar": {
                          "outlinewidth": 0,
                          "ticks": ""
                        },
                        "colorscale": [
                          [
                            0,
                            "#0d0887"
                          ],
                          [
                            0.1111111111111111,
                            "#46039f"
                          ],
                          [
                            0.2222222222222222,
                            "#7201a8"
                          ],
                          [
                            0.3333333333333333,
                            "#9c179e"
                          ],
                          [
                            0.4444444444444444,
                            "#bd3786"
                          ],
                          [
                            0.5555555555555556,
                            "#d8576b"
                          ],
                          [
                            0.6666666666666666,
                            "#ed7953"
                          ],
                          [
                            0.7777777777777778,
                            "#fb9f3a"
                          ],
                          [
                            0.8888888888888888,
                            "#fdca26"
                          ],
                          [
                            1,
                            "#f0f921"
                          ]
                        ],
                        "type": "histogram2d"
                      }
                    ],
                    "histogram2dcontour": [
                      {
                        "colorbar": {
                          "outlinewidth": 0,
                          "ticks": ""
                        },
                        "colorscale": [
                          [
                            0,
                            "#0d0887"
                          ],
                          [
                            0.1111111111111111,
                            "#46039f"
                          ],
                          [
                            0.2222222222222222,
                            "#7201a8"
                          ],
                          [
                            0.3333333333333333,
                            "#9c179e"
                          ],
                          [
                            0.4444444444444444,
                            "#bd3786"
                          ],
                          [
                            0.5555555555555556,
                            "#d8576b"
                          ],
                          [
                            0.6666666666666666,
                            "#ed7953"
                          ],
                          [
                            0.7777777777777778,
                            "#fb9f3a"
                          ],
                          [
                            0.8888888888888888,
                            "#fdca26"
                          ],
                          [
                            1,
                            "#f0f921"
                          ]
                        ],
                        "type": "histogram2dcontour"
                      }
                    ],
                    "mesh3d": [
                      {
                        "colorbar": {
                          "outlinewidth": 0,
                          "ticks": ""
                        },
                        "type": "mesh3d"
                      }
                    ],
                    "parcoords": [
                      {
                        "line": {
                          "colorbar": {
                            "outlinewidth": 0,
                            "ticks": ""
                          }
                        },
                        "type": "parcoords"
                      }
                    ],
                    "pie": [
                      {
                        "automargin": true,
                        "type": "pie"
                      }
                    ],
                    "scatter": [
                      {
                        "marker": {
                          "colorbar": {
                            "outlinewidth": 0,
                            "ticks": ""
                          }
                        },
                        "type": "scatter"
                      }
                    ],
                    "scatter3d": [
                      {
                        "line": {
                          "colorbar": {
                            "outlinewidth": 0,
                            "ticks": ""
                          }
                        },
                        "marker": {
                          "colorbar": {
                            "outlinewidth": 0,
                            "ticks": ""
                          }
                        },
                        "type": "scatter3d"
                      }
                    ],
                    "scattercarpet": [
                      {
                        "marker": {
                          "colorbar": {
                            "outlinewidth": 0,
                            "ticks": ""
                          }
                        },
                        "type": "scattercarpet"
                      }
                    ],
                    "scattergeo": [
                      {
                        "marker": {
                          "colorbar": {
                            "outlinewidth": 0,
                            "ticks": ""
                          }
                        },
                        "type": "scattergeo"
                      }
                    ],
                    "scattergl": [
                      {
                        "marker": {
                          "colorbar": {
                            "outlinewidth": 0,
                            "ticks": ""
                          }
                        },
                        "type": "scattergl"
                      }
                    ],
                    "scattermapbox": [
                      {
                        "marker": {
                          "colorbar": {
                            "outlinewidth": 0,
                            "ticks": ""
                          }
                        },
                        "type": "scattermapbox"
                      }
                    ],
                    "scatterpolar": [
                      {
                        "marker": {
                          "colorbar": {
                            "outlinewidth": 0,
                            "ticks": ""
                          }
                        },
                        "type": "scatterpolar"
                      }
                    ],
                    "scatterpolargl": [
                      {
                        "marker": {
                          "colorbar": {
                            "outlinewidth": 0,
                            "ticks": ""
                          }
                        },
                        "type": "scatterpolargl"
                      }
                    ],
                    "scatterternary": [
                      {
                        "marker": {
                          "colorbar": {
                            "outlinewidth": 0,
                            "ticks": ""
                          }
                        },
                        "type": "scatterternary"
                      }
                    ],
                    "surface": [
                      {
                        "colorbar": {
                          "outlinewidth": 0,
                          "ticks": ""
                        },
                        "colorscale": [
                          [
                            0,
                            "#0d0887"
                          ],
                          [
                            0.1111111111111111,
                            "#46039f"
                          ],
                          [
                            0.2222222222222222,
                            "#7201a8"
                          ],
                          [
                            0.3333333333333333,
                            "#9c179e"
                          ],
                          [
                            0.4444444444444444,
                            "#bd3786"
                          ],
                          [
                            0.5555555555555556,
                            "#d8576b"
                          ],
                          [
                            0.6666666666666666,
                            "#ed7953"
                          ],
                          [
                            0.7777777777777778,
                            "#fb9f3a"
                          ],
                          [
                            0.8888888888888888,
                            "#fdca26"
                          ],
                          [
                            1,
                            "#f0f921"
                          ]
                        ],
                        "type": "surface"
                      }
                    ],
                    "table": [
                      {
                        "cells": {
                          "fill": {
                            "color": "#EBF0F8"
                          },
                          "line": {
                            "color": "white"
                          }
                        },
                        "header": {
                          "fill": {
                            "color": "#C8D4E3"
                          },
                          "line": {
                            "color": "white"
                          }
                        },
                        "type": "table"
                      }
                    ]
                  },
                  "layout": {
                    "annotationdefaults": {
                      "arrowcolor": "#2a3f5f",
                      "arrowhead": 0,
                      "arrowwidth": 1
                    },
                    "autotypenumbers": "strict",
                    "coloraxis": {
                      "colorbar": {
                        "outlinewidth": 0,
                        "ticks": ""
                      }
                    },
                    "colorscale": {
                      "diverging": [
                        [
                          0,
                          "#8e0152"
                        ],
                        [
                          0.1,
                          "#c51b7d"
                        ],
                        [
                          0.2,
                          "#de77ae"
                        ],
                        [
                          0.3,
                          "#f1b6da"
                        ],
                        [
                          0.4,
                          "#fde0ef"
                        ],
                        [
                          0.5,
                          "#f7f7f7"
                        ],
                        [
                          0.6,
                          "#e6f5d0"
                        ],
                        [
                          0.7,
                          "#b8e186"
                        ],
                        [
                          0.8,
                          "#7fbc41"
                        ],
                        [
                          0.9,
                          "#4d9221"
                        ],
                        [
                          1,
                          "#276419"
                        ]
                      ],
                      "sequential": [
                        [
                          0,
                          "#0d0887"
                        ],
                        [
                          0.1111111111111111,
                          "#46039f"
                        ],
                        [
                          0.2222222222222222,
                          "#7201a8"
                        ],
                        [
                          0.3333333333333333,
                          "#9c179e"
                        ],
                        [
                          0.4444444444444444,
                          "#bd3786"
                        ],
                        [
                          0.5555555555555556,
                          "#d8576b"
                        ],
                        [
                          0.6666666666666666,
                          "#ed7953"
                        ],
                        [
                          0.7777777777777778,
                          "#fb9f3a"
                        ],
                        [
                          0.8888888888888888,
                          "#fdca26"
                        ],
                        [
                          1,
                          "#f0f921"
                        ]
                      ],
                      "sequentialminus": [
                        [
                          0,
                          "#0d0887"
                        ],
                        [
                          0.1111111111111111,
                          "#46039f"
                        ],
                        [
                          0.2222222222222222,
                          "#7201a8"
                        ],
                        [
                          0.3333333333333333,
                          "#9c179e"
                        ],
                        [
                          0.4444444444444444,
                          "#bd3786"
                        ],
                        [
                          0.5555555555555556,
                          "#d8576b"
                        ],
                        [
                          0.6666666666666666,
                          "#ed7953"
                        ],
                        [
                          0.7777777777777778,
                          "#fb9f3a"
                        ],
                        [
                          0.8888888888888888,
                          "#fdca26"
                        ],
                        [
                          1,
                          "#f0f921"
                        ]
                      ]
                    },
                    "colorway": [
                      "#636efa",
                      "#EF553B",
                      "#00cc96",
                      "#ab63fa",
                      "#FFA15A",
                      "#19d3f3",
                      "#FF6692",
                      "#B6E880",
                      "#FF97FF",
                      "#FECB52"
                    ],
                    "font": {
                      "color": "#2a3f5f"
                    },
                    "geo": {
                      "bgcolor": "white",
                      "lakecolor": "white",
                      "landcolor": "#E5ECF6",
                      "showlakes": true,
                      "showland": true,
                      "subunitcolor": "white"
                    },
                    "hoverlabel": {
                      "align": "left"
                    },
                    "hovermode": "closest",
                    "mapbox": {
                      "style": "light"
                    },
                    "paper_bgcolor": "white",
                    "plot_bgcolor": "#E5ECF6",
                    "polar": {
                      "angularaxis": {
                        "gridcolor": "white",
                        "linecolor": "white",
                        "ticks": ""
                      },
                      "bgcolor": "#E5ECF6",
                      "radialaxis": {
                        "gridcolor": "white",
                        "linecolor": "white",
                        "ticks": ""
                      }
                    },
                    "scene": {
                      "xaxis": {
                        "backgroundcolor": "#E5ECF6",
                        "gridcolor": "white",
                        "gridwidth": 2,
                        "linecolor": "white",
                        "showbackground": true,
                        "ticks": "",
                        "zerolinecolor": "white"
                      },
                      "yaxis": {
                        "backgroundcolor": "#E5ECF6",
                        "gridcolor": "white",
                        "gridwidth": 2,
                        "linecolor": "white",
                        "showbackground": true,
                        "ticks": "",
                        "zerolinecolor": "white"
                      },
                      "zaxis": {
                        "backgroundcolor": "#E5ECF6",
                        "gridcolor": "white",
                        "gridwidth": 2,
                        "linecolor": "white",
                        "showbackground": true,
                        "ticks": "",
                        "zerolinecolor": "white"
                      }
                    },
                    "shapedefaults": {
                      "line": {
                        "color": "#2a3f5f"
                      }
                    },
                    "ternary": {
                      "aaxis": {
                        "gridcolor": "white",
                        "linecolor": "white",
                        "ticks": ""
                      },
                      "baxis": {
                        "gridcolor": "white",
                        "linecolor": "white",
                        "ticks": ""
                      },
                      "bgcolor": "#E5ECF6",
                      "caxis": {
                        "gridcolor": "white",
                        "linecolor": "white",
                        "ticks": ""
                      }
                    },
                    "title": {
                      "x": 0.05
                    },
                    "xaxis": {
                      "automargin": true,
                      "gridcolor": "white",
                      "linecolor": "white",
                      "ticks": "",
                      "title": {
                        "standoff": 15
                      },
                      "zerolinecolor": "white",
                      "zerolinewidth": 2
                    },
                    "yaxis": {
                      "automargin": true,
                      "gridcolor": "white",
                      "linecolor": "white",
                      "ticks": "",
                      "title": {
                        "standoff": 15
                      },
                      "zerolinecolor": "white",
                      "zerolinewidth": 2
                    }
                  }
                },
                "title": {
                  "text": "Minimum Wages in Kansas and Ohio"
                },
                "xaxis": {
                  "anchor": "y",
                  "domain": [
                    0,
                    1
                  ],
                  "title": {
                    "text": "date"
                  }
                },
                "yaxis": {
                  "anchor": "x",
                  "domain": [
                    0,
                    1
                  ],
                  "title": {
                    "text": "minwage"
                  }
                }
              }
            }
          },
          "metadata": {},
          "output_type": "display_data"
        }
      ],
      "source": [
        "did2=df_s[(df_s['state'].isin(['kansas', 'ohio']))&(df_s['date']>='2000')& (df_s['date']<'2010')]\n",
        "px.line(did2, x='date', y='minwage', color='state', title=\"Minimum Wages in Kansas and Ohio\")"
      ]
    },
    {
      "cell_type": "markdown",
      "metadata": {
        "id": "mwmpWPJkG_yG"
      },
      "source": [
        "Run a difference in differences regression to measure the effect of this minimum wage increase on unemployment. Define three variables (post, treatment, post_treatment), and include just these three variables in the model.\n",
        "\n",
        "* Part A: What is the effect of the minimum wage increase on unemployment in the case of Kansas and Ohio?\n",
        "* Part B: Difference in Differences designs have two assumptions: parallel trends, and no simultaneous treatment. Can you think of any events that ocurred in 2008 that might violate the \"no simultaneous treatment\" assumption?"
      ]
    },
    {
      "cell_type": "code",
      "execution_count": null,
      "metadata": {
        "id": "NUqhK387G_yG"
      },
      "outputs": [],
      "source": []
    }
  ],
  "metadata": {
    "colab": {
      "name": "W5. Distributions and Basic Statistics.ipynb",
      "provenance": [],
      "include_colab_link": true
    },
    "kernelspec": {
      "display_name": "Python 3.9.7 ('geo')",
      "language": "python",
      "name": "python3"
    },
    "language_info": {
      "codemirror_mode": {
        "name": "ipython",
        "version": 3
      },
      "file_extension": ".py",
      "mimetype": "text/x-python",
      "name": "python",
      "nbconvert_exporter": "python",
      "pygments_lexer": "ipython3",
      "version": "3.9.7"
    },
    "vscode": {
      "interpreter": {
        "hash": "8ee0682e3aec3eb14c273afe4405335ee3a64a018407db16d950813fa3a05036"
      }
    }
  },
  "nbformat": 4,
  "nbformat_minor": 0
}